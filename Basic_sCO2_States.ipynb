{
 "cells": [
  {
   "cell_type": "code",
   "execution_count": 1,
   "id": "f89c78dd-ecea-4985-8c7b-29776a7869e9",
   "metadata": {},
   "outputs": [],
   "source": [
    "# Dictate the environment's loctaion of REFPROP\n",
    "import os\n",
    "os.environ['RPPREFIX'] = r'C:/Program Files (x86)/REFPROP'"
   ]
  },
  {
   "cell_type": "code",
   "execution_count": 2,
   "id": "57513b96-9bc2-45bc-990f-46334c446a78",
   "metadata": {},
   "outputs": [],
   "source": [
    "# Import the main class from the Python library\n",
    "from ctREFPROP.ctREFPROP import REFPROPFunctionLibrary\n",
    "\n",
    "# Imports from conda-installable packages\n",
    "import pandas as pd\n",
    "\n",
    "# Import numpy\n",
    "import numpy as np\n",
    "\n",
    "# Import matplotlib for plotting\n",
    "import matplotlib.pyplot as plt\n",
    "\n",
    "# Import Math for common values such as PI\n",
    "import math\n"
   ]
  },
  {
   "cell_type": "code",
   "execution_count": 3,
   "id": "1c895ddb-5ed9-4cb3-a033-d58dcce77bcf",
   "metadata": {},
   "outputs": [],
   "source": [
    "# Instantiate the library, and use the environment variable to explicitly state which path we want to use.\n",
    "# As mentioned above, this will be changed to call the correct REFPROP functions to be used\n",
    "# with MINI-REFPROP and 32-bit python.\n",
    "# If using MINI-REFPROP and 32-bit python please make the following changes\n",
    "# RP = REFPROPFunctionLibrary('C:/Program FIles (x86)/MINI-REFPROP\\\\REFPROP.DLL')\n",
    "RP = REFPROPFunctionLibrary(os.environ['RPPREFIX'])"
   ]
  },
  {
   "cell_type": "code",
   "execution_count": 4,
   "id": "ba0bac28-5490-4a1d-9e2a-086f00731de5",
   "metadata": {},
   "outputs": [],
   "source": [
    "# This will call which root directory that will be used for the program. \n",
    "RP.SETPATHdll(os.environ['RPPREFIX'])"
   ]
  },
  {
   "cell_type": "code",
   "execution_count": 5,
   "id": "01c3408a-5228-4296-acd5-4d011eebf733",
   "metadata": {},
   "outputs": [],
   "source": [
    "# Get the unit system we want to use (Mass base SI gives units in\n",
    "# K, Pa, kg, m, N, J, W, and s)\n",
    "MASS_BASE_SI = RP.GETENUMdll(0, \"MASS BASE SI\").iEnum"
   ]
  },
  {
   "cell_type": "code",
   "execution_count": 6,
   "id": "a6e7968a-5395-4f67-a298-39c79c33d165",
   "metadata": {},
   "outputs": [],
   "source": [
    "### Basic sCO2 States Derived"
   ]
  },
  {
   "cell_type": "code",
   "execution_count": 7,
   "id": "da98f976-f177-404d-a606-ee073e4f70dc",
   "metadata": {},
   "outputs": [],
   "source": [
    "m_dot = .2 # kg/s of mass flow rate of sCO2"
   ]
  },
  {
   "cell_type": "code",
   "execution_count": 8,
   "id": "95327004-32a6-43bb-95be-040129a8c02d",
   "metadata": {},
   "outputs": [],
   "source": [
    "#### Outlet of Heat Source, Inlet of Engine"
   ]
  },
  {
   "cell_type": "code",
   "execution_count": 9,
   "id": "abf65273-caaa-4e81-b6d8-16abcbda82da",
   "metadata": {},
   "outputs": [
    {
     "name": "stdout",
     "output_type": "stream",
     "text": [
      "Pressure at Outlet of Heat Source = 2500.0 psia\n",
      "Temperature at Outlet of Heat Source = 185.0 F\n"
     ]
    }
   ],
   "source": [
    "T3 = 85# [C]\n",
    "P3 = 2500 # [psia]\n",
    "\n",
    "T3 = T3 + 273.15 # Convert C to Kelvin\n",
    "P3 = P3 * 6894.8 # convert psia to Pa\n",
    "\n",
    "print(\"Pressure at Outlet of Heat Source =\", P3/6894.8, \"psia\")\n",
    "print(\"Temperature at Outlet of Heat Source =\" , (T3 - 273.15) * (9/5) + 32, \"F\")"
   ]
  },
  {
   "cell_type": "code",
   "execution_count": 10,
   "id": "49057ccb-97af-4889-9070-762f359f4683",
   "metadata": {},
   "outputs": [
    {
     "data": {
      "text/html": [
       "<div>\n",
       "<style scoped>\n",
       "    .dataframe tbody tr th:only-of-type {\n",
       "        vertical-align: middle;\n",
       "    }\n",
       "\n",
       "    .dataframe tbody tr th {\n",
       "        vertical-align: top;\n",
       "    }\n",
       "\n",
       "    .dataframe thead th {\n",
       "        text-align: right;\n",
       "    }\n",
       "</style>\n",
       "<table border=\"1\" class=\"dataframe\">\n",
       "  <thead>\n",
       "    <tr style=\"text-align: right;\">\n",
       "      <th></th>\n",
       "      <th>State 3</th>\n",
       "    </tr>\n",
       "  </thead>\n",
       "  <tbody>\n",
       "    <tr>\n",
       "      <th>Enthalpy [J/kg]</th>\n",
       "      <td>406716.191506</td>\n",
       "    </tr>\n",
       "    <tr>\n",
       "      <th>Density [kg/m^3]</th>\n",
       "      <td>480.660076</td>\n",
       "    </tr>\n",
       "    <tr>\n",
       "      <th>Volume [m^3/kg]</th>\n",
       "      <td>0.002080</td>\n",
       "    </tr>\n",
       "    <tr>\n",
       "      <th>Entropy [J/kg]</th>\n",
       "      <td>1597.215320</td>\n",
       "    </tr>\n",
       "    <tr>\n",
       "      <th>CP/CV</th>\n",
       "      <td>2.966649</td>\n",
       "    </tr>\n",
       "    <tr>\n",
       "      <th>Speed of Sound</th>\n",
       "      <td>294.198929</td>\n",
       "    </tr>\n",
       "    <tr>\n",
       "      <th>Thermal Cond. [W/(mK)]</th>\n",
       "      <td>0.055155</td>\n",
       "    </tr>\n",
       "    <tr>\n",
       "      <th>Viscosity [Pa-s]</th>\n",
       "      <td>0.000036</td>\n",
       "    </tr>\n",
       "    <tr>\n",
       "      <th>Prandtl</th>\n",
       "      <td>1.782125</td>\n",
       "    </tr>\n",
       "  </tbody>\n",
       "</table>\n",
       "</div>"
      ],
      "text/plain": [
       "                              State 3\n",
       "Enthalpy [J/kg]         406716.191506\n",
       "Density [kg/m^3]           480.660076\n",
       "Volume [m^3/kg]              0.002080\n",
       "Entropy [J/kg]            1597.215320\n",
       "CP/CV                        2.966649\n",
       "Speed of Sound             294.198929\n",
       "Thermal Cond. [W/(mK)]       0.055155\n",
       "Viscosity [Pa-s]             0.000036\n",
       "Prandtl                      1.782125"
      ]
     },
     "execution_count": 10,
     "metadata": {},
     "output_type": "execute_result"
    }
   ],
   "source": [
    "# Obtain fluid properties from the pressure and enthalpy outlined above\n",
    "State_3 = RP.REFPROPdll(\"CO2\",\"PT\",\"H;D;V;S;CP/CV;W;TCX;VIS;PRANDTL\", MASS_BASE_SI,0,0,P3,T3,[1.0])\n",
    "\n",
    "# Outputs will be placed into data frame for organization\n",
    "State_3 = pd.DataFrame(State_3.Output[0:9],\n",
    "            index = ['Enthalpy [J/kg]','Density [kg/m^3]', 'Volume [m^3/kg]', 'Entropy [J/kg]',\n",
    "                     'CP/CV', 'Speed of Sound', 'Thermal Cond. [W/(mK)]', 'Viscosity [Pa-s]', 'Prandtl'],\n",
    "            columns = ['State 3'])\n",
    "\n",
    "# Display the data frame\n",
    "State_3"
   ]
  },
  {
   "cell_type": "code",
   "execution_count": 11,
   "id": "dfcdad77-d4aa-4640-8f26-bc617ef79339",
   "metadata": {},
   "outputs": [],
   "source": [
    "#### Outlet of Engine, Inlet of Heat Exchanger"
   ]
  },
  {
   "cell_type": "code",
   "execution_count": 12,
   "id": "7f263cf4-6ce4-4613-99ca-4612f6d22622",
   "metadata": {},
   "outputs": [],
   "source": [
    "# Engine Parameters\n",
    "mass_cylinder = State_3.loc['Density [kg/m^3]', 'State 3'] * .000308276\n",
    "State_4_den = mass_cylinder / .000454574\n",
    "\n",
    "# With Isentropic expansion\n",
    "State_4_entr = State_3.loc['Entropy [J/kg]', 'State 3']\n",
    "\n",
    "State_4_isen = RP.REFPROPdll(\"CO2\",\"DS\",\"P;T;V;H;CP/CV;W;TCX;VIS;PRANDTL\", MASS_BASE_SI,0,0,State_4_den,State_4_entr,[1.0])\n",
    "\n",
    "# Outputs will be placed into data frame for organization\n",
    "State_4_isen = pd.DataFrame(State_4_isen.Output[0:9],\n",
    "            index = ['Pressure [Pa]', 'Temperature [K]', 'Volume [m^3/kg]', 'Enthalpy [J/kg]',\n",
    "                     'CP/CV', 'Speed of Sound', 'Thermal Cond. [W/(mK)]', 'Viscosity [Pa-s]', 'Prandtl'],\n",
    "            columns = ['State 4 Isentropic'])\n"
   ]
  },
  {
   "cell_type": "code",
   "execution_count": 13,
   "id": "ba6a0d47-dc0d-4bad-b589-77ce147e852f",
   "metadata": {},
   "outputs": [],
   "source": [
    "# Account for Issentropic Efficiency\n",
    "Isen_eff = .7\n",
    "State_4_enth_new = State_3.loc['Enthalpy [J/kg]','State 3'] - (Isen_eff * (State_3.loc['Enthalpy [J/kg]','State 3'] - State_4_isen.loc['Enthalpy [J/kg]', 'State 4 Isentropic']))\n",
    "\n",
    "# Using Pressure and enthalpy find the states of the fluid at the Outlet of Engine\n",
    "\n",
    "State_4 = RP.REFPROPdll(\"CO2\",\"PH\",\"D;T;V;S;CP/CV;W;TCX;VIS;PRANDTL\", MASS_BASE_SI,0,0,State_4_isen.loc['Pressure [Pa]','State 4 Isentropic'],State_4_enth_new,[1.0])\n",
    "\n",
    "# Outputs will be placed into data frame for organization\n",
    "State_4 = pd.DataFrame(State_4.Output[0:9],\n",
    "            index = ['Density [kg/m^3]','Temperature [K]', 'Volume [m^3/kg]', 'Entropy [J/kg]',\n",
    "                     'CP/CV', 'Speed of Sound', 'Thermal Cond. [W/(mK)]', 'Viscosity [Pa-s]', 'Prandtl'],\n",
    "            columns = ['State 4'])\n"
   ]
  },
  {
   "cell_type": "code",
   "execution_count": 14,
   "id": "adeea72b-57c5-4f18-b4e7-5d41045cac58",
   "metadata": {},
   "outputs": [],
   "source": [
    "#### Outlet of Heat Exchanger, Inlet to Compressor"
   ]
  },
  {
   "cell_type": "code",
   "execution_count": 15,
   "id": "066db804-d609-4279-b279-fffbd8a81352",
   "metadata": {},
   "outputs": [],
   "source": [
    "P1 = State_4_isen.loc['Pressure [Pa]', 'State 4 Isentropic']\n",
    "\n",
    "Q_out = -2.5 # kW heat removed by Heat Exchanger 2.5\n",
    "\n",
    "h1 = Q_out * 1000 / (m_dot) + State_4_isen.loc['Enthalpy [J/kg]', 'State 4 Isentropic']"
   ]
  },
  {
   "cell_type": "code",
   "execution_count": 16,
   "id": "cac75652-b639-4537-a26d-2cf185e5c4e9",
   "metadata": {},
   "outputs": [],
   "source": [
    "# Obtain fluid properties from the pressure and enthalpy outlined above\n",
    "State_1 = RP.REFPROPdll(\"CO2\",\"PH\",\"T;D;V;S;CP/CV;W;TCX;VIS;PRANDTL\", MASS_BASE_SI,0,0,P1,h1,[1.0])\n",
    "\n",
    "# Outputs will be placed into data frame for organization\n",
    "State_1 = pd.DataFrame(State_1.Output[0:9],\n",
    "            index = ['Temperature [K]','Density [kg/m^3]', 'Volume [m^3/kg]', 'Entropy [J/kg]',\n",
    "                     'CP/CV', 'Speed of Sound', 'Thermal Cond. [W/(mK)]', 'Viscosity [Pa-s]', 'Prandtl'],\n",
    "            columns = ['State 1'])"
   ]
  },
  {
   "cell_type": "code",
   "execution_count": 17,
   "id": "714f863c-3307-421d-9b24-00e418637811",
   "metadata": {},
   "outputs": [],
   "source": [
    "#### Outlet of Compressor, Inlet to Heat Source Isentropic"
   ]
  },
  {
   "cell_type": "code",
   "execution_count": 18,
   "id": "7f5c17e3-f292-4077-acfd-a8049c3a23eb",
   "metadata": {},
   "outputs": [],
   "source": [
    "# Find the Isentropic Outlet of the Compressor\n",
    "State_2_isen = RP.REFPROPdll(\"CO2\",\"PS\",\"T;D;V;H;CP/CV;W;TCX;VIS;PRANDTL\", MASS_BASE_SI,0,0,P3,State_1.loc['Entropy [J/kg]', 'State 1'],[1.0])\n",
    "State_2_isen = pd.DataFrame(State_2_isen.Output[0:9],\n",
    "            index = ['Temperature [K]','Density [kg/m^3]', 'Volume [m^3/kg]', 'Enthalpy [J/kg]',\n",
    "                     'CP/CV', 'Speed of Sound', 'Thermal Cond. [W/(mK)]', 'Viscosity [Pa-s]', 'Prandtl'],\n",
    "            columns = ['State 2 Isentropic'])"
   ]
  },
  {
   "cell_type": "code",
   "execution_count": 19,
   "id": "c33c47e1-5b50-4ce0-ac67-b7bbf061876c",
   "metadata": {},
   "outputs": [],
   "source": [
    "# Account for Issentropic Efficiency\n",
    "Isen_eff = .85\n",
    "State_2_enth_new = h1 + ((State_2_isen.loc['Enthalpy [J/kg]', 'State 2 Isentropic'] - h1)/Isen_eff)"
   ]
  },
  {
   "cell_type": "code",
   "execution_count": 20,
   "id": "3ca14ae9-9742-4cf8-9d5b-a04a3a224b3c",
   "metadata": {},
   "outputs": [],
   "source": [
    "State_2 = RP.REFPROPdll(\"CO2\",\"PH\",\"T;D;V;S;CP/CV;W;TCX;VIS;PRANDTL\", MASS_BASE_SI,0,0,P3,State_2_enth_new,[1.0])\n",
    "\n",
    "# Outputs will be placed into data frame for organization\n",
    "State_2 = pd.DataFrame(State_2.Output[0:9],\n",
    "            index = ['Temperature [K]', 'Density [kg/m^3]', 'Volume [m^3/kg]', 'Entropy [J/kg]',\n",
    "                     'CP/CV', 'Speed of Sound', 'Thermal Cond. [W/(mK)]', 'Viscosity [Pa-s]', 'Prandtl'],\n",
    "            columns = ['State 2'])"
   ]
  },
  {
   "cell_type": "code",
   "execution_count": 21,
   "id": "49ae4294-b766-409a-a8bf-414c994ec386",
   "metadata": {},
   "outputs": [],
   "source": [
    "State_3.loc['Pressure [Pa]', 'State 3'] = P3\n",
    "State_3.loc['Temperature [K]', 'State 3'] = T3\n",
    "State_4_isen.loc['Density [kg/m^3]', 'State 4 Isentropic'] = State_4_den\n",
    "State_4_isen.loc['Entropy [J/kg]', 'State 4 Isentropic'] = State_4_entr\n",
    "State_4.loc['Enthalpy [J/kg]', 'State 4'] = State_4_enth_new\n",
    "State_4.loc['Pressure [Pa]', 'State 4'] = State_4_isen.loc['Pressure [Pa]','State 4 Isentropic']\n",
    "State_1.loc['Pressure [Pa]', 'State 1'] = P1\n",
    "State_1.loc['Enthalpy [J/kg]', 'State 1'] = h1\n",
    "State_2_isen.loc['Entropy [J/kg]', 'State 2 Isentropic'] = State_1.loc['Entropy [J/kg]', 'State 1']\n",
    "State_2_isen.loc['Pressure [Pa]', 'State 2 Isentropic'] = P3\n",
    "State_2.loc['Enthalpy [J/kg]', 'State 2'] = State_2_enth_new\n",
    "State_2.loc['Pressure [Pa]', 'State 2'] = State_2_isen.loc['Pressure [Pa]', 'State 2 Isentropic']"
   ]
  },
  {
   "cell_type": "code",
   "execution_count": 22,
   "id": "5a7413e7-389c-44d0-b1ed-b5935a9e5ffe",
   "metadata": {},
   "outputs": [
    {
     "data": {
      "text/html": [
       "<div>\n",
       "<style scoped>\n",
       "    .dataframe tbody tr th:only-of-type {\n",
       "        vertical-align: middle;\n",
       "    }\n",
       "\n",
       "    .dataframe tbody tr th {\n",
       "        vertical-align: top;\n",
       "    }\n",
       "\n",
       "    .dataframe thead th {\n",
       "        text-align: right;\n",
       "    }\n",
       "</style>\n",
       "<table border=\"1\" class=\"dataframe\">\n",
       "  <thead>\n",
       "    <tr style=\"text-align: right;\">\n",
       "      <th></th>\n",
       "      <th>State 1</th>\n",
       "      <th>State 2 Isentropic</th>\n",
       "      <th>State 2</th>\n",
       "      <th>State 3</th>\n",
       "      <th>State 4 Isentropic</th>\n",
       "      <th>State 4</th>\n",
       "    </tr>\n",
       "  </thead>\n",
       "  <tbody>\n",
       "    <tr>\n",
       "      <th>Pressure [Pa]</th>\n",
       "      <td>8.142864e+06</td>\n",
       "      <td>1.723700e+07</td>\n",
       "      <td>1.723700e+07</td>\n",
       "      <td>1.723700e+07</td>\n",
       "      <td>8.142864e+06</td>\n",
       "      <td>8.142864e+06</td>\n",
       "    </tr>\n",
       "    <tr>\n",
       "      <th>Temperature [K]</th>\n",
       "      <td>3.101153e+02</td>\n",
       "      <td>3.530416e+02</td>\n",
       "      <td>3.543074e+02</td>\n",
       "      <td>3.581500e+02</td>\n",
       "      <td>3.113238e+02</td>\n",
       "      <td>3.122069e+02</td>\n",
       "    </tr>\n",
       "    <tr>\n",
       "      <th>Density [kg/m^3]</th>\n",
       "      <td>3.606617e+02</td>\n",
       "      <td>5.148984e+02</td>\n",
       "      <td>5.060638e+02</td>\n",
       "      <td>4.806601e+02</td>\n",
       "      <td>3.259667e+02</td>\n",
       "      <td>3.091700e+02</td>\n",
       "    </tr>\n",
       "    <tr>\n",
       "      <th>Volume [m^3/kg]</th>\n",
       "      <td>2.772681e-03</td>\n",
       "      <td>1.942131e-03</td>\n",
       "      <td>1.976035e-03</td>\n",
       "      <td>2.080472e-03</td>\n",
       "      <td>3.067798e-03</td>\n",
       "      <td>3.234467e-03</td>\n",
       "    </tr>\n",
       "    <tr>\n",
       "      <th>Enthalpy [J/kg]</th>\n",
       "      <td>3.719603e+05</td>\n",
       "      <td>3.924099e+05</td>\n",
       "      <td>3.960187e+05</td>\n",
       "      <td>4.067162e+05</td>\n",
       "      <td>3.844603e+05</td>\n",
       "      <td>3.911371e+05</td>\n",
       "    </tr>\n",
       "    <tr>\n",
       "      <th>Entropy [J/kg]</th>\n",
       "      <td>1.556980e+03</td>\n",
       "      <td>1.556980e+03</td>\n",
       "      <td>1.567184e+03</td>\n",
       "      <td>1.597215e+03</td>\n",
       "      <td>1.597215e+03</td>\n",
       "      <td>1.618632e+03</td>\n",
       "    </tr>\n",
       "    <tr>\n",
       "      <th>CP/CV</th>\n",
       "      <td>1.084347e+01</td>\n",
       "      <td>3.092798e+00</td>\n",
       "      <td>3.064922e+00</td>\n",
       "      <td>2.966649e+00</td>\n",
       "      <td>7.509643e+00</td>\n",
       "      <td>6.283907e+00</td>\n",
       "    </tr>\n",
       "    <tr>\n",
       "      <th>Speed of Sound</th>\n",
       "      <td>1.912395e+02</td>\n",
       "      <td>3.003353e+02</td>\n",
       "      <td>2.985367e+02</td>\n",
       "      <td>2.941989e+02</td>\n",
       "      <td>1.971360e+02</td>\n",
       "      <td>2.005064e+02</td>\n",
       "    </tr>\n",
       "    <tr>\n",
       "      <th>Thermal Cond. [W/(mK)]</th>\n",
       "      <td>6.425538e-02</td>\n",
       "      <td>5.809879e-02</td>\n",
       "      <td>5.733734e-02</td>\n",
       "      <td>5.515481e-02</td>\n",
       "      <td>5.466991e-02</td>\n",
       "      <td>5.036067e-02</td>\n",
       "    </tr>\n",
       "    <tr>\n",
       "      <th>Viscosity [Pa-s]</th>\n",
       "      <td>2.575052e-05</td>\n",
       "      <td>3.848092e-05</td>\n",
       "      <td>3.781603e-05</td>\n",
       "      <td>3.600559e-05</td>\n",
       "      <td>2.400834e-05</td>\n",
       "      <td>2.325274e-05</td>\n",
       "    </tr>\n",
       "    <tr>\n",
       "      <th>Prandtl</th>\n",
       "      <td>5.193967e+00</td>\n",
       "      <td>1.898366e+00</td>\n",
       "      <td>1.870019e+00</td>\n",
       "      <td>1.782125e+00</td>\n",
       "      <td>3.702228e+00</td>\n",
       "      <td>3.150604e+00</td>\n",
       "    </tr>\n",
       "  </tbody>\n",
       "</table>\n",
       "</div>"
      ],
      "text/plain": [
       "                             State 1  State 2 Isentropic       State 2  \\\n",
       "Pressure [Pa]           8.142864e+06        1.723700e+07  1.723700e+07   \n",
       "Temperature [K]         3.101153e+02        3.530416e+02  3.543074e+02   \n",
       "Density [kg/m^3]        3.606617e+02        5.148984e+02  5.060638e+02   \n",
       "Volume [m^3/kg]         2.772681e-03        1.942131e-03  1.976035e-03   \n",
       "Enthalpy [J/kg]         3.719603e+05        3.924099e+05  3.960187e+05   \n",
       "Entropy [J/kg]          1.556980e+03        1.556980e+03  1.567184e+03   \n",
       "CP/CV                   1.084347e+01        3.092798e+00  3.064922e+00   \n",
       "Speed of Sound          1.912395e+02        3.003353e+02  2.985367e+02   \n",
       "Thermal Cond. [W/(mK)]  6.425538e-02        5.809879e-02  5.733734e-02   \n",
       "Viscosity [Pa-s]        2.575052e-05        3.848092e-05  3.781603e-05   \n",
       "Prandtl                 5.193967e+00        1.898366e+00  1.870019e+00   \n",
       "\n",
       "                             State 3  State 4 Isentropic       State 4  \n",
       "Pressure [Pa]           1.723700e+07        8.142864e+06  8.142864e+06  \n",
       "Temperature [K]         3.581500e+02        3.113238e+02  3.122069e+02  \n",
       "Density [kg/m^3]        4.806601e+02        3.259667e+02  3.091700e+02  \n",
       "Volume [m^3/kg]         2.080472e-03        3.067798e-03  3.234467e-03  \n",
       "Enthalpy [J/kg]         4.067162e+05        3.844603e+05  3.911371e+05  \n",
       "Entropy [J/kg]          1.597215e+03        1.597215e+03  1.618632e+03  \n",
       "CP/CV                   2.966649e+00        7.509643e+00  6.283907e+00  \n",
       "Speed of Sound          2.941989e+02        1.971360e+02  2.005064e+02  \n",
       "Thermal Cond. [W/(mK)]  5.515481e-02        5.466991e-02  5.036067e-02  \n",
       "Viscosity [Pa-s]        3.600559e-05        2.400834e-05  2.325274e-05  \n",
       "Prandtl                 1.782125e+00        3.702228e+00  3.150604e+00  "
      ]
     },
     "execution_count": 22,
     "metadata": {},
     "output_type": "execute_result"
    }
   ],
   "source": [
    "# Combine the data frames into one data frame for ease of use\n",
    "sCO2_States = pd.concat([State_1, State_2_isen, State_2, State_3, State_4_isen, State_4], axis =1)\n",
    "\n",
    "# Reorder the Data Frame\n",
    "sCO2_States = sCO2_States.reindex([\"Pressure [Pa]\", \"Temperature [K]\", 'Density [kg/m^3]', 'Volume [m^3/kg]', 'Enthalpy [J/kg]',\n",
    "                     'Entropy [J/kg]', 'CP/CV', 'Speed of Sound', 'Thermal Cond. [W/(mK)]', 'Viscosity [Pa-s]', \n",
    "                     'Prandtl' ])\n",
    "\n",
    "# Display the data frame\n",
    "sCO2_States"
   ]
  },
  {
   "cell_type": "code",
   "execution_count": 23,
   "id": "d788d840-9d03-4cc9-8311-de7d67a7246f",
   "metadata": {},
   "outputs": [],
   "source": [
    "# Plot States on T-S Diagram\n",
    "S_CO2_1 = []\n",
    "S_CO2_2 = []\n",
    "T_CO2 = []\n",
    "T = 273.125 # K\n",
    "\n",
    "for x in range(0,20000):\n",
    "    CO2_S = RP.REFPROPdll(\"CO2\",\"TQMASS\",\"S\", MASS_BASE_SI,0,0, T + 31*(x/20000), 0,[1.0]).Output[0]\n",
    "    S_CO2_1.append(CO2_S/1000)\n",
    "    CO2_S = RP.REFPROPdll(\"CO2\",\"TQMASS\",\"S\", MASS_BASE_SI,0,0, T + 31*(x/20000), 1,[1.0]).Output[0]\n",
    "    S_CO2_2.append(CO2_S/1000)\n",
    "    T_CO2.append(T + 31*(x/20000))"
   ]
  },
  {
   "cell_type": "code",
   "execution_count": 24,
   "id": "36fcb53d-c19a-4894-9ec8-cbb79e12aa11",
   "metadata": {},
   "outputs": [],
   "source": [
    "T_CO2_P1 = []\n",
    "T_CO2_P2 = []\n",
    "S_P1 = []\n",
    "T_CO2_P3 = []\n",
    "\n",
    "for x in range(0,1000):\n",
    "    CO2_T = RP.REFPROPdll(\"CO2\",\"PS\",\"T\", MASS_BASE_SI,0,0, 1.723700e+07, (1 + .8 * (x/1000))*1000 ,[1.0]).Output[0]\n",
    "    T_CO2_P1.append(CO2_T-273.125)\n",
    "    S_P1.append(1 + .8 * (x/1000))\n",
    "    CO2_T = RP.REFPROPdll(\"CO2\",\"PS\",\"T\", MASS_BASE_SI,0,0, 8.142864e+06, (1 + .8 * (x/1000))*1000 ,[1.0]).Output[0]\n",
    "    T_CO2_P2.append(CO2_T-273.125)"
   ]
  },
  {
   "cell_type": "code",
   "execution_count": 25,
   "id": "8f256a3f-5d1a-4e3a-bec3-47d6b196ccf1",
   "metadata": {},
   "outputs": [],
   "source": [
    "Isentropic_T = [sCO2_States.loc['Temperature [K]', 'State 2 Isentropic'],sCO2_States.loc['Temperature [K]', 'State 3'],sCO2_States.loc['Temperature [K]', 'State 4 Isentropic'],\\\n",
    "                sCO2_States.loc['Temperature [K]', 'State 1'],sCO2_States.loc['Temperature [K]', 'State 2 Isentropic'] ]\n",
    "Actual_T = [sCO2_States.loc['Temperature [K]', 'State 2'],sCO2_States.loc['Temperature [K]', 'State 3'],sCO2_States.loc['Temperature [K]', 'State 4'],\\\n",
    "                sCO2_States.loc['Temperature [K]', 'State 1'],sCO2_States.loc['Temperature [K]', 'State 2'] ]\n",
    "S_Isentropic = [sCO2_States.loc['Entropy [J/kg]', 'State 2 Isentropic'],sCO2_States.loc['Entropy [J/kg]', 'State 3'],sCO2_States.loc['Entropy [J/kg]', 'State 4 Isentropic'],\\\n",
    "                sCO2_States.loc['Entropy [J/kg]', 'State 1'],sCO2_States.loc['Entropy [J/kg]', 'State 2 Isentropic'] ]\n",
    "S_Actual = [sCO2_States.loc['Entropy [J/kg]', 'State 2'],sCO2_States.loc['Entropy [J/kg]', 'State 3'],sCO2_States.loc['Entropy [J/kg]', 'State 4'],\\\n",
    "                sCO2_States.loc['Entropy [J/kg]', 'State 1'],sCO2_States.loc['Entropy [J/kg]', 'State 2'] ]\n"
   ]
  },
  {
   "cell_type": "code",
   "execution_count": 26,
   "id": "436b8d4a-6331-4c7c-ba09-960c29f2566b",
   "metadata": {},
   "outputs": [],
   "source": [
    "T_merge = [31,31]\n",
    "S_merge = [1.415, 1.45]\n",
    "Isentropic_T = np.array(Isentropic_T) - 273.125\n",
    "Actual_T = np.array(Actual_T) - 273.125\n",
    "S_Isentropic = np.array(S_Isentropic)/1000\n",
    "S_Actual = np.array(S_Actual)/1000\n",
    "T_CO2 = np.array(T_CO2) - 273.125"
   ]
  },
  {
   "cell_type": "code",
   "execution_count": 27,
   "id": "bfa98588-8cbd-40bd-b5bd-d6d89d953173",
   "metadata": {},
   "outputs": [
    {
     "data": {
      "image/png": "[encoded data removed]",
      "text/plain": [
       "<Figure size 720x576 with 1 Axes>"
      ]
     },
     "metadata": {
      "needs_background": "light"
     },
     "output_type": "display_data"
    }
   ],
   "source": [
    "plt.figure(figsize=(10,8), tight_layout=True)\n",
    "\n",
    "plt.plot(S_CO2_1, T_CO2, 'k', linewidth = 1.5 )\n",
    "plt.plot(S_CO2_2, T_CO2, 'k', linewidth = 1.5 )\n",
    "plt.plot(S_merge, T_merge,'k', linewidth = 1.5)\n",
    "plt.plot(S_P1, T_CO2_P1,'k',linewidth=1.5)\n",
    "plt.plot(S_P1, T_CO2_P2,'k',linewidth=1.5)\n",
    "plt.axvline(x = 1.4331, ymin= .25,  color = 'k', linestyle = '--')\n",
    "plt.axhline(y=31, xmin = .35, color = 'k', linestyle = '--')\n",
    "plt.plot(S_Isentropic, Isentropic_T, '-r', linewidth = 2.5)\n",
    "plt.plot(S_Actual, Actual_T, '--r', linewidth = 2.5)\n",
    "plt.xticks(fontsize = 14)\n",
    "plt.yticks(fontsize = 14)\n",
    "plt.grid(True)\n",
    "plt.xlabel('Entropy [kJ/(kg*K)]', fontsize = 18)\n",
    "plt.ylabel('Temperature [C]', fontsize = 18)\n",
    "plt.axis([1.3,1.8,10,95])\n",
    "plt.annotate('8,143 kPa', xy = (1.7, 44), fontsize = 16, xytext = (1.72, 40),arrowprops = dict(facecolor = 'black'),\n",
    "             color = 'k')\n",
    "plt.annotate('17,237 kPa', xy = (1.65, 91), fontsize = 16, xytext = (1.7, 85),arrowprops = dict(facecolor = 'black'),\n",
    "             color = 'k')\n",
    "plt.text(1.55, 33, '1', fontsize = 18)\n",
    "plt.text(1.565, 83, '2', fontsize = 18)\n",
    "plt.text(1.54, 81, '2s', fontsize = 18)\n",
    "plt.text(1.59, 86.5, '3', fontsize = 18)\n",
    "plt.text(1.585, 35, '4s', fontsize = 18)\n",
    "plt.text(1.615, 36, '4', fontsize = 18)\n",
    "plt.text(1.35, 18, 'Two-phase Region', fontsize = 22,\n",
    "        bbox = dict(facecolor = 'white'))\n",
    "\n",
    "#plt.savefig('T-S_Diagram.png',bbox_inches='tight')\n",
    "\n",
    "plt.show()"
   ]
  },
  {
   "cell_type": "code",
   "execution_count": 28,
   "id": "88493cc4-2c9d-408c-9f99-b35dba5ce1b9",
   "metadata": {},
   "outputs": [
    {
     "name": "stdout",
     "output_type": "stream",
     "text": [
      "Work by Compressor = 4.812 kW\n",
      "Work by Engine = 3.116 kW\n",
      "Heat into Cycle = 2.861 kW\n",
      "Heat out of Cycle = 2.5 kW\n",
      "Thermal Efficiency = -59.27 %\n",
      "Isen Therm. Eff = 12.626 %\n",
      "Isen Work by Compressor = 4.09 kW\n",
      "Isen Work by Engine = 4.451 kW\n"
     ]
    }
   ],
   "source": [
    "Work_in = .2 * (sCO2_States.loc['Enthalpy [J/kg]', 'State 2'] - sCO2_States.loc['Enthalpy [J/kg]', 'State 1'])\n",
    "Work_out = .2 * (sCO2_States.loc['Enthalpy [J/kg]', 'State 3'] - sCO2_States.loc['Enthalpy [J/kg]', 'State 4'])\n",
    "Q_in = .2 * (sCO2_States.loc['Enthalpy [J/kg]', 'State 3'] - sCO2_States.loc['Enthalpy [J/kg]', 'State 2 Isentropic'])\n",
    "Q_out = .2 * (sCO2_States.loc['Enthalpy [J/kg]', 'State 4 Isentropic'] - sCO2_States.loc['Enthalpy [J/kg]', 'State 1'])\n",
    "Isen_Work_in = .2 * (sCO2_States.loc['Enthalpy [J/kg]', 'State 2 Isentropic'] - sCO2_States.loc['Enthalpy [J/kg]', 'State 1'])\n",
    "Isen_Work_out = .2 * (sCO2_States.loc['Enthalpy [J/kg]', 'State 3'] - sCO2_States.loc['Enthalpy [J/kg]', 'State 4 Isentropic'])\n",
    "\n",
    "print(\"Work by Compressor =\", round(Work_in/1000,3), \"kW\")\n",
    "print(\"Work by Engine =\", round(Work_out/1000,3), \"kW\")\n",
    "print(\"Heat into Cycle =\", round(Q_in/1000,3), \"kW\")\n",
    "print(\"Heat out of Cycle =\", round(Q_out/1000,3), \"kW\")\n",
    "print(\"Thermal Efficiency =\", round((Work_out - Work_in)/(Q_in) * 100,3), \"%\")\n",
    "print(\"Isen Therm. Eff =\", round((Isen_Work_out - Isen_Work_in)/(Q_in) * 100,3), \"%\")\n",
    "print(\"Isen Work by Compressor =\", round(Isen_Work_in/1000,3), \"kW\")\n",
    "print(\"Isen Work by Engine =\", round(Isen_Work_out/1000,3), \"kW\")"
   ]
  },
  {
   "cell_type": "code",
   "execution_count": 29,
   "id": "71e9c86c-a184-461e-b8d2-6f0ec0897fb9",
   "metadata": {},
   "outputs": [],
   "source": [
    "#### Plotting P-v diagram\n",
    "P_states = [sCO2_States.loc['Pressure [Pa]', 'State 1'], sCO2_States.loc['Pressure [Pa]', 'State 2 Isentropic'], sCO2_States.loc['Pressure [Pa]', 'State 3'], sCO2_States.loc['Pressure [Pa]', 'State 4 Isentropic'], sCO2_States.loc['Pressure [Pa]', 'State 1']]\n",
    "V_states = [sCO2_States.loc['Volume [m^3/kg]', 'State 1'], sCO2_States.loc['Volume [m^3/kg]', 'State 2 Isentropic'], sCO2_States.loc['Volume [m^3/kg]', 'State 3'], sCO2_States.loc['Volume [m^3/kg]', 'State 4 Isentropic'], sCO2_States.loc['Volume [m^3/kg]', 'State 1'] ]\n",
    "P_states = np.array(P_states)/1000"
   ]
  },
  {
   "cell_type": "code",
   "execution_count": 30,
   "id": "a5817a01-e09e-4a02-8f72-506d38e22e22",
   "metadata": {},
   "outputs": [],
   "source": [
    "# Dome of PV Diagram\n",
    "V_CO2_1 = []\n",
    "V_CO2_2 = []\n",
    "P_CO2 = []\n",
    "P = 3000 * 1000 # kPa\n",
    "\n",
    "for x in range(0,10000):\n",
    "    CO2_V = RP.REFPROPdll(\"CO2\",\"PQMASS\",\"V\", MASS_BASE_SI,0,0, P + 4377.3*1000*(x/10000), 0,[1.0]).Output[0]\n",
    "    V_CO2_1.append(CO2_V)\n",
    "    CO2_V = RP.REFPROPdll(\"CO2\",\"PQMASS\",\"V\", MASS_BASE_SI,0,0, P + 4377.3*1000*(x/10000), 1,[1.0]).Output[0]\n",
    "    V_CO2_2.append(CO2_V)\n",
    "    P_CO2.append( P/1000 + 4377.3*(x/10000))"
   ]
  },
  {
   "cell_type": "code",
   "execution_count": 31,
   "id": "6e41c52f-cb9a-4497-8461-79a52471981e",
   "metadata": {},
   "outputs": [],
   "source": [
    "P_merge = [7377.3,7377.3]\n",
    "V_merge = [.002, .00225]"
   ]
  },
  {
   "cell_type": "code",
   "execution_count": 32,
   "id": "57c721f9-ecc8-4384-bd81-3411e652f55c",
   "metadata": {
    "tags": []
   },
   "outputs": [
    {
     "data": {
      "image/png": "[encoded data removed]",
      "text/plain": [
       "<Figure size 576x432 with 1 Axes>"
      ]
     },
     "metadata": {
      "needs_background": "light"
     },
     "output_type": "display_data"
    }
   ],
   "source": [
    "plt.figure(figsize=(8,6), tight_layout=True)\n",
    "\n",
    "plt.plot(V_CO2_1, P_CO2, 'k', linewidth = 1.5 )\n",
    "plt.plot(V_CO2_2, P_CO2, 'k', linewidth = 1.5 )\n",
    "plt.plot(V_merge, P_merge, 'k',linewidth = 1.5)\n",
    "plt.plot(V_states, P_states, 'r', linewidth = 3 )\n",
    "plt.grid(True)\n",
    "plt.xlabel('Specific Volume [m^3/kg]', fontsize = 18)\n",
    "plt.ylabel('Pressure [kPa]', fontsize = 18)\n",
    "#plt.text(.002, 4000, 'Two-phase Region', fontsize = 18,\n",
    "        #bbox = dict(facecolor = 'white'))\n",
    "plt.xticks(fontsize = 13)\n",
    "plt.yticks(fontsize = 13)\n",
    "plt.axis([0.001,.0035,6000,18000])\n",
    "\n",
    "plt.text(.00265, 7600, '1', fontsize = 18)\n",
    "plt.text(.0018, 17000, '2s', fontsize = 18)\n",
    "plt.text(.00215, 17000, '3', fontsize = 18)\n",
    "plt.text(.0031, 8000, '4s', fontsize = 18)\n",
    "\n",
    "#plt.savefig('P-V_Diagram.png',bbox_inches='tight')\n",
    "plt.show()"
   ]
  },
  {
   "cell_type": "code",
   "execution_count": null,
   "id": "7eaae41b-5d86-48d9-a0d9-fff3a4929f7c",
   "metadata": {},
   "outputs": [],
   "source": []
  }
 ],
 "metadata": {
  "kernelspec": {
   "display_name": "Python 3",
   "language": "python",
   "name": "python3"
  },
  "language_info": {
   "codemirror_mode": {
    "name": "ipython",
    "version": 3
   },
   "file_extension": ".py",
   "mimetype": "text/x-python",
   "name": "python",
   "nbconvert_exporter": "python",
   "pygments_lexer": "ipython3",
   "version": "3.8.8"
  }
 },
 "nbformat": 4,
 "nbformat_minor": 5
}
