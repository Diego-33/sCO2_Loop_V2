{
 "cells": [
  {
   "cell_type": "code",
   "execution_count": 1,
   "id": "f7101be6-f5a0-414d-8803-70503ab0a624",
   "metadata": {},
   "outputs": [],
   "source": [
    "# Dictate the environment's loctaion of REFPROP\n",
    "import os\n",
    "os.environ['RPPREFIX'] = r'C:/Program Files (x86)/REFPROP'"
   ]
  },
  {
   "cell_type": "code",
   "execution_count": 2,
   "id": "a343d1ad-7c41-4c33-ab71-6e231ad0bcda",
   "metadata": {},
   "outputs": [],
   "source": [
    "# Import the main class from the Python library\n",
    "from ctREFPROP.ctREFPROP import REFPROPFunctionLibrary\n",
    "\n",
    "# Imports from conda-installable packages\n",
    "import pandas as pd\n",
    "\n",
    "# Import numpy\n",
    "import numpy as np\n",
    "\n",
    "# Import matplotlib for plotting\n",
    "import matplotlib.pyplot as plt\n",
    "\n",
    "# Import Math for common values such as PI\n",
    "import math\n"
   ]
  },
  {
   "cell_type": "code",
   "execution_count": 3,
   "id": "48cfc93d-0f83-4513-b235-b59b8a1c97fb",
   "metadata": {},
   "outputs": [],
   "source": [
    "# Instantiate the library, and use the environment variable to explicitly state which path we want to use.\n",
    "# As mentioned above, this will be changed to call the correct REFPROP functions to be used\n",
    "# with MINI-REFPROP and 32-bit python.\n",
    "# If using MINI-REFPROP and 32-bit python please make the following changes\n",
    "# RP = REFPROPFunctionLibrary('C:/Program FIles (x86)/MINI-REFPROP\\\\REFPROP.DLL')\n",
    "RP = REFPROPFunctionLibrary(os.environ['RPPREFIX'])"
   ]
  },
  {
   "cell_type": "code",
   "execution_count": 4,
   "id": "805e1451-c98c-48ea-86bd-3bff87160de5",
   "metadata": {},
   "outputs": [],
   "source": [
    "# This will call which root directory that will be used for the program. \n",
    "RP.SETPATHdll(os.environ['RPPREFIX'])"
   ]
  },
  {
   "cell_type": "code",
   "execution_count": 5,
   "id": "91376aab-97e5-4f6d-9723-a624a1017ad5",
   "metadata": {},
   "outputs": [],
   "source": [
    "# Get the unit system we want to use (Mass base SI gives units in\n",
    "# K, Pa, kg, m, N, J, W, and s)\n",
    "MASS_BASE_SI = RP.GETENUMdll(0, \"MASS BASE SI\").iEnum"
   ]
  },
  {
   "cell_type": "markdown",
   "id": "1aa64050-b0f6-4077-b4da-526afdd7483d",
   "metadata": {},
   "source": [
    "#### sCO2 States"
   ]
  },
  {
   "cell_type": "code",
   "execution_count": 6,
   "id": "6e765598-bd8c-4dc3-9cce-d9d63ba5c037",
   "metadata": {},
   "outputs": [],
   "source": [
    "# Hold one temperature constant and vary the other \n",
    "# Specify Compressor Inlet temperature constant (max heat dissipation is 15 kW)\n",
    "# Specify Engine Inlet temperature (max heat input is 16 kW)"
   ]
  },
  {
   "cell_type": "code",
   "execution_count": 7,
   "id": "caefeb26-b322-444f-8153-87b69e9f85d2",
   "metadata": {},
   "outputs": [],
   "source": [
    "m_dot = .2 # kg/s of mass flow rate of sCO2\n",
    "\n",
    "# Outlet of Heat Source / Inlet of Engine\n",
    "T3 = 90 # [C]\n",
    "T3 = T3 + 273.15\n",
    "P3 = 2500 # [psia]\n",
    "P3 = P3 * 6894.8 # convert psia to Pa\n",
    "\n",
    "T1 = 39 # [C]\n",
    "T1 = T1 + 273.15"
   ]
  },
  {
   "cell_type": "code",
   "execution_count": 8,
   "id": "5a7936a7-f9ef-4434-b2fd-c7987a936b61",
   "metadata": {},
   "outputs": [],
   "source": [
    "# STATE 3 PROPERTIES\n",
    "State_3 = RP.REFPROPdll(\"CO2\",\"PT\",\"H;D;S;CP/CV;\", MASS_BASE_SI,0,0,P3,T3,[1.0])\n",
    "State_3 = pd.DataFrame(State_3.Output[0:4],\n",
    "            index = ['Enthalpy [J/kg]','Density [kg/m^3]','Entropy [J/kg]','CP/CV'],\n",
    "            columns = ['State 3'])\n",
    "\n",
    "# OUTLET OF ENGINE\n",
    "mass_cylinder = State_3.loc['Density [kg/m^3]', 'State 3'] * .000308276\n",
    "State_4_den = mass_cylinder / .000454574\n",
    "# With Isentropic expansion\n",
    "State_4_entr = State_3.loc['Entropy [J/kg]', 'State 3']\n",
    "\n",
    "State_4_isen = RP.REFPROPdll(\"CO2\",\"DS\",\"P;T;H;CP/CV\", MASS_BASE_SI,0,0,State_4_den,State_4_entr,[1.0])\n",
    "State_4_isen = pd.DataFrame(State_4_isen.Output[0:4],\n",
    "            index = ['Pressure [Pa]', 'Temperature [K]', 'Enthalpy [J/kg]','CP/CV'],\n",
    "            columns = ['State 4 Isentropic'])\n",
    "\n",
    "# Outlet of Heat Exchanger\n",
    "P1 = State_4_isen.loc['Pressure [Pa]', 'State 4 Isentropic']\n",
    "State_1 = RP.REFPROPdll(\"CO2\",\"PT\",\"H;D;S;CP/CV;\", MASS_BASE_SI,0,0,P1,T1,[1.0])\n",
    "State_1 = pd.DataFrame(State_1.Output[0:4],\n",
    "            index = ['Enthalpy [J/kg]','Density [kg/m^3]','Entropy [J/kg]','CP/CV'],\n",
    "            columns = ['State 1'])\n",
    "\n",
    "# Outlet of Compressor\n",
    "State_2_isen = RP.REFPROPdll(\"CO2\",\"PS\",\"T;D;H;CP/CV\", MASS_BASE_SI,0,0,P3,State_1.loc['Entropy [J/kg]', 'State 1'],[1.0])\n",
    "State_2_isen = pd.DataFrame(State_2_isen.Output[0:4],\n",
    "            index = ['Temperature [K]','Density [kg/m^3]', 'Enthalpy [J/kg]','CP/CV'],\n",
    "            columns = ['State 2 Isentropic'])"
   ]
  },
  {
   "cell_type": "code",
   "execution_count": 9,
   "id": "d2c7c9af-f058-4e9d-8857-2ae0aa2026b7",
   "metadata": {},
   "outputs": [
    {
     "data": {
      "text/html": [
       "<div>\n",
       "<style scoped>\n",
       "    .dataframe tbody tr th:only-of-type {\n",
       "        vertical-align: middle;\n",
       "    }\n",
       "\n",
       "    .dataframe tbody tr th {\n",
       "        vertical-align: top;\n",
       "    }\n",
       "\n",
       "    .dataframe thead th {\n",
       "        text-align: right;\n",
       "    }\n",
       "</style>\n",
       "<table border=\"1\" class=\"dataframe\">\n",
       "  <thead>\n",
       "    <tr style=\"text-align: right;\">\n",
       "      <th></th>\n",
       "      <th>State 1</th>\n",
       "      <th>State 2 Isentropic</th>\n",
       "      <th>State 3</th>\n",
       "      <th>State 4 Isentropic</th>\n",
       "    </tr>\n",
       "  </thead>\n",
       "  <tbody>\n",
       "    <tr>\n",
       "      <th>Pressure [Pa]</th>\n",
       "      <td>8.478766e+06</td>\n",
       "      <td>1.723700e+07</td>\n",
       "      <td>1.723700e+07</td>\n",
       "      <td>8.478766e+06</td>\n",
       "    </tr>\n",
       "    <tr>\n",
       "      <th>Temperature [K]</th>\n",
       "      <td>3.121500e+02</td>\n",
       "      <td>3.517691e+02</td>\n",
       "      <td>3.631500e+02</td>\n",
       "      <td>3.156501e+02</td>\n",
       "    </tr>\n",
       "    <tr>\n",
       "      <th>Density [kg/m^3]</th>\n",
       "      <td>3.793996e+02</td>\n",
       "      <td>5.239983e+02</td>\n",
       "      <td>4.509085e+02</td>\n",
       "      <td>3.057902e+02</td>\n",
       "    </tr>\n",
       "    <tr>\n",
       "      <th>Enthalpy [J/kg]</th>\n",
       "      <td>3.696321e+05</td>\n",
       "      <td>3.887446e+05</td>\n",
       "      <td>4.199911e+05</td>\n",
       "      <td>3.970620e+05</td>\n",
       "    </tr>\n",
       "    <tr>\n",
       "      <th>Entropy [J/kg]</th>\n",
       "      <td>1.546580e+03</td>\n",
       "      <td>1.546580e+03</td>\n",
       "      <td>1.634027e+03</td>\n",
       "      <td>1.634027e+03</td>\n",
       "    </tr>\n",
       "    <tr>\n",
       "      <th>CP/CV</th>\n",
       "      <td>1.018872e+01</td>\n",
       "      <td>3.117937e+00</td>\n",
       "      <td>2.821532e+00</td>\n",
       "      <td>5.297056e+00</td>\n",
       "    </tr>\n",
       "  </tbody>\n",
       "</table>\n",
       "</div>"
      ],
      "text/plain": [
       "                       State 1  State 2 Isentropic       State 3  \\\n",
       "Pressure [Pa]     8.478766e+06        1.723700e+07  1.723700e+07   \n",
       "Temperature [K]   3.121500e+02        3.517691e+02  3.631500e+02   \n",
       "Density [kg/m^3]  3.793996e+02        5.239983e+02  4.509085e+02   \n",
       "Enthalpy [J/kg]   3.696321e+05        3.887446e+05  4.199911e+05   \n",
       "Entropy [J/kg]    1.546580e+03        1.546580e+03  1.634027e+03   \n",
       "CP/CV             1.018872e+01        3.117937e+00  2.821532e+00   \n",
       "\n",
       "                  State 4 Isentropic  \n",
       "Pressure [Pa]           8.478766e+06  \n",
       "Temperature [K]         3.156501e+02  \n",
       "Density [kg/m^3]        3.057902e+02  \n",
       "Enthalpy [J/kg]         3.970620e+05  \n",
       "Entropy [J/kg]          1.634027e+03  \n",
       "CP/CV                   5.297056e+00  "
      ]
     },
     "execution_count": 9,
     "metadata": {},
     "output_type": "execute_result"
    }
   ],
   "source": [
    "# Fill missing Data points\n",
    "State_3.loc['Pressure [Pa]', 'State 3'] = P3\n",
    "State_3.loc['Temperature [K]', 'State 3'] = T3\n",
    "State_4_isen.loc['Density [kg/m^3]', 'State 4 Isentropic'] = State_4_den\n",
    "State_4_isen.loc['Entropy [J/kg]', 'State 4 Isentropic'] = State_4_entr\n",
    "State_1.loc['Pressure [Pa]', 'State 1'] = P1\n",
    "State_1.loc['Temperature [K]', 'State 1'] = T1\n",
    "State_2_isen.loc['Entropy [J/kg]', 'State 2 Isentropic'] = State_1.loc['Entropy [J/kg]', 'State 1']\n",
    "State_2_isen.loc['Pressure [Pa]', 'State 2 Isentropic'] = P3\n",
    "\n",
    "# Combine the data frames into one data frame for ease of use\n",
    "sCO2_States = pd.concat([State_1, State_2_isen, State_3, State_4_isen], axis =1)\n",
    "# Reorder the Data Frame\n",
    "sCO2_States = sCO2_States.reindex([\"Pressure [Pa]\", \"Temperature [K]\", 'Density [kg/m^3]', 'Enthalpy [J/kg]',\n",
    "                     'Entropy [J/kg]', 'CP/CV'])\n",
    "sCO2_States"
   ]
  },
  {
   "cell_type": "code",
   "execution_count": 10,
   "id": "355dba96-22bd-4e98-a326-110d51bfb1aa",
   "metadata": {},
   "outputs": [
    {
     "name": "stdout",
     "output_type": "stream",
     "text": [
      "Inlet Compressor Temp = 39.0 C\n",
      "Inlet Engine Temp = 90.0 C\n",
      "Heat into Cycle = 6.249 kW\n",
      "Heat out of Cycle = 5.486 kW\n",
      "Isen Work by Engine = 4.586 kW\n",
      "Isen Therm. Eff = 12.214 %\n",
      "Isen Work by Compressor = 3.823 kW\n",
      "Inlet Compressor Pressure= 1229.733 psi\n"
     ]
    }
   ],
   "source": [
    "Q_in = m_dot * (sCO2_States.loc['Enthalpy [J/kg]', 'State 3'] - sCO2_States.loc['Enthalpy [J/kg]', 'State 2 Isentropic'])\n",
    "Q_out = m_dot * (sCO2_States.loc['Enthalpy [J/kg]', 'State 4 Isentropic'] - sCO2_States.loc['Enthalpy [J/kg]', 'State 1'])\n",
    "Isen_Work_in = m_dot * (sCO2_States.loc['Enthalpy [J/kg]', 'State 2 Isentropic'] - sCO2_States.loc['Enthalpy [J/kg]', 'State 1'])\n",
    "Isen_Work_out = m_dot * (sCO2_States.loc['Enthalpy [J/kg]', 'State 3'] - sCO2_States.loc['Enthalpy [J/kg]', 'State 4 Isentropic'])\n",
    "\n",
    "print(\"Inlet Compressor Temp =\", T1 - 273.15, \"C\")\n",
    "print(\"Inlet Engine Temp =\", T3 - 273.15, \"C\")\n",
    "print(\"Heat into Cycle =\", round(Q_in/1000,3), \"kW\")\n",
    "print(\"Heat out of Cycle =\", round(Q_out/1000,3), \"kW\")\n",
    "print(\"Isen Work by Engine =\", round(Isen_Work_out/1000,3), \"kW\")\n",
    "print(\"Isen Therm. Eff =\", round((Isen_Work_out - Isen_Work_in)/(Q_in) * 100,3), \"%\")\n",
    "print(\"Isen Work by Compressor =\", round(Isen_Work_in/1000,3), \"kW\")\n",
    "print(\"Inlet Compressor Pressure=\", round(sCO2_States.loc['Pressure [Pa]', 'State 1'] / 6894.8 , 3), \"psi\" )"
   ]
  },
  {
   "cell_type": "code",
   "execution_count": 11,
   "id": "c07ba97e-1fba-46dc-aa2c-a7a26ee730a1",
   "metadata": {},
   "outputs": [
    {
     "name": "stdout",
     "output_type": "stream",
     "text": [
      "39.0 90.0 6.249 5.486 4.586 12.214 3.823 1229.733\n"
     ]
    }
   ],
   "source": [
    "print(T1 - 273.15 , T3 - 273.15, round(Q_in/1000,3), round(Q_out/1000,3), round(Isen_Work_out/1000,3), round((Isen_Work_out - Isen_Work_in)/(Q_in) * 100,3), round(Isen_Work_in/1000,3), round(sCO2_States.loc['Pressure [Pa]', 'State 1'] / 6894.8 , 3))"
   ]
  }
 ],
 "metadata": {
  "kernelspec": {
   "display_name": "Python 3",
   "language": "python",
   "name": "python3"
  },
  "language_info": {
   "codemirror_mode": {
    "name": "ipython",
    "version": 3
   },
   "file_extension": ".py",
   "mimetype": "text/x-python",
   "name": "python",
   "nbconvert_exporter": "python",
   "pygments_lexer": "ipython3",
   "version": "3.8.8"
  }
 },
 "nbformat": 4,
 "nbformat_minor": 5
}
