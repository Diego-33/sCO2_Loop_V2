{
 "cells": [
  {
   "cell_type": "markdown",
   "id": "f25114ad-ba31-4d7b-a2ab-580ad7b236f6",
   "metadata": {},
   "source": [
    "#### IMPORTANT\n",
    "Ensure you are utilizing 64-bit REFPROP with 64-bit python. If using the free version of REFPROP (MINI-REFPROP), please use 32-bit python and make changes to match the location where MINI-REFPROP is installed and make changes to the REFPROPFunctionLibrary function to read the REFPROP.DLL file.\n",
    "\n",
    "Information on REFPROP and functions can be found here: https://buildmedia.readthedocs.org/media/pdf/refprop-docs/latest/refprop-docs.pdf"
   ]
  },
  {
   "cell_type": "code",
   "execution_count": 1,
   "id": "034fa53a-7d69-4922-9b56-a0a842375250",
   "metadata": {},
   "outputs": [],
   "source": [
    "### IMPORT PACKAGES & FUNCTIONS"
   ]
  },
  {
   "cell_type": "code",
   "execution_count": 2,
   "id": "f5d4a85d-eb15-46ba-b381-7e9c3d92a201",
   "metadata": {},
   "outputs": [],
   "source": [
    "# Dictate the environment's loctaion of REFPROP\n",
    "import os\n",
    "os.environ['RPPREFIX'] = r'C:/Program Files (x86)/REFPROP'"
   ]
  },
  {
   "cell_type": "code",
   "execution_count": 3,
   "id": "f19b3a57-d4db-4f7c-9f23-eedc871c7c55",
   "metadata": {},
   "outputs": [],
   "source": [
    "# Import the main class from the Python library\n",
    "from ctREFPROP.ctREFPROP import REFPROPFunctionLibrary\n",
    "\n",
    "# Imports from conda-installable packages\n",
    "import pandas as pd\n",
    "\n",
    "# Import numpy\n",
    "import numpy as np\n",
    "\n",
    "# Import matplotlib for plotting\n",
    "import matplotlib.pyplot as plt\n",
    "\n",
    "# Import Math for common values such as PI\n",
    "import math\n"
   ]
  },
  {
   "cell_type": "code",
   "execution_count": 4,
   "id": "18c61a40-af8f-4ba5-85c1-3d3c7187a654",
   "metadata": {},
   "outputs": [],
   "source": [
    "# Instantiate the library, and use the environment variable to explicitly state which path we want to use.\n",
    "# As mentioned above, this will be changed to call the correct REFPROP functions to be used\n",
    "# with MINI-REFPROP and 32-bit python.\n",
    "# If using MINI-REFPROP and 32-bit python please make the following changes\n",
    "# RP = REFPROPFunctionLibrary('C:/Program FIles (x86)/MINI-REFPROP\\\\REFPROP.DLL')\n",
    "RP = REFPROPFunctionLibrary(os.environ['RPPREFIX'])"
   ]
  },
  {
   "cell_type": "code",
   "execution_count": 5,
   "id": "c97da889-6ff7-4b94-a372-ef39919b00a8",
   "metadata": {},
   "outputs": [],
   "source": [
    "# This will call which root directory that will be used for the program. \n",
    "RP.SETPATHdll(os.environ['RPPREFIX'])"
   ]
  },
  {
   "cell_type": "code",
   "execution_count": 6,
   "id": "b395b114-348a-4263-a6c5-863a67f5fb97",
   "metadata": {},
   "outputs": [],
   "source": [
    "# Get the unit system we want to use (Mass base SI gives units in\n",
    "# K, Pa, kg, m, N, J, W, and s)\n",
    "MASS_BASE_SI = RP.GETENUMdll(0, \"MASS BASE SI\").iEnum"
   ]
  },
  {
   "cell_type": "code",
   "execution_count": 7,
   "id": "920cddce-6b7b-4c90-b61f-771952cd9c56",
   "metadata": {},
   "outputs": [],
   "source": [
    "### HEAT EXCHANGER CALCS"
   ]
  },
  {
   "cell_type": "code",
   "execution_count": 8,
   "id": "082dd7da-865e-42eb-9e16-bfa56acd428a",
   "metadata": {},
   "outputs": [],
   "source": [
    "#### Design Parameters of Heat Exchanger"
   ]
  },
  {
   "cell_type": "code",
   "execution_count": 9,
   "id": "2c5fabdb-b114-4397-80fb-64c3e9c23d3c",
   "metadata": {},
   "outputs": [
    {
     "name": "stdout",
     "output_type": "stream",
     "text": [
      "Hydraulic Diameter = 0.046304200000000004 meters\n"
     ]
    }
   ],
   "source": [
    "# Outline the parameters of the Heat Exchanger (i.e. Tube ID & OD, Pipe ID & OD, Mass Flow rates)\n",
    "Tube_OD = 0.5# [inch]\n",
    "Tube_ID = 0.402 # [inch]\n",
    "\n",
    "Tube_OD = Tube_OD * 0.0254 # [Convert inches to meters]\n",
    "Tube_ID = Tube_ID * 0.0254 # [Convert inches to meters]\n",
    "\n",
    "Pipe_ID = 2.323 # [Inch]\n",
    "Pipe_ID = Pipe_ID * 0.0254 # [Convert inches to meters]\n",
    "\n",
    "# Calculate the Hydraulic Diameter of Heat Exchanger\n",
    "Hyd_Dia = (((math.pi) * Pipe_ID**2 / 4) - ((math.pi) * Tube_OD**2 / 4)) * 4 / ((math.pi) * Tube_OD + (math.pi) * Pipe_ID) # [meters]\n",
    "print(\"Hydraulic Diameter =\" , Hyd_Dia, \"meters\")\n",
    "\n",
    "# Mass Flow rate of sCO2\n",
    "m_dot_sCO2 = 0.20 # (kg/s)\n",
    "\n",
    "# Thermal Conductivity of the 316 S.S. tube [W/(m*K)]\n",
    "Tube_Therm = 13.4\n",
    "\n",
    "# Thermal Resistance of the Tube\n",
    "#R_cond = (math.log((Tube_OD/2)/(Tube_ID/2))) / Tube_Therm # [(m*K)/W]"
   ]
  },
  {
   "cell_type": "code",
   "execution_count": 10,
   "id": "532fad92-0f2a-4e5d-b258-5d2bc4183f53",
   "metadata": {},
   "outputs": [],
   "source": [
    "#### sCO2 Properties"
   ]
  },
  {
   "cell_type": "code",
   "execution_count": 11,
   "id": "52822383-af1f-4a71-a43b-5208509796e1",
   "metadata": {},
   "outputs": [],
   "source": [
    "# Specify inlet conditions\n",
    "\n",
    "P_in = 1236.23 # [psia]\n",
    "\n",
    "P_in = P_in * 6894.8 # convert psi to Pa\n",
    "T_in = 314.972952 # Kelvin"
   ]
  },
  {
   "cell_type": "code",
   "execution_count": 12,
   "id": "f3eb20af-8ec4-457f-837f-d43040552a32",
   "metadata": {},
   "outputs": [
    {
     "data": {
      "text/html": [
       "<div>\n",
       "<style scoped>\n",
       "    .dataframe tbody tr th:only-of-type {\n",
       "        vertical-align: middle;\n",
       "    }\n",
       "\n",
       "    .dataframe tbody tr th {\n",
       "        vertical-align: top;\n",
       "    }\n",
       "\n",
       "    .dataframe thead th {\n",
       "        text-align: right;\n",
       "    }\n",
       "</style>\n",
       "<table border=\"1\" class=\"dataframe\">\n",
       "  <thead>\n",
       "    <tr style=\"text-align: right;\">\n",
       "      <th></th>\n",
       "      <th>Inlet sCO2</th>\n",
       "    </tr>\n",
       "  </thead>\n",
       "  <tbody>\n",
       "    <tr>\n",
       "      <th>Density [kg/m^3]</th>\n",
       "      <td>321.422100</td>\n",
       "    </tr>\n",
       "    <tr>\n",
       "      <th>Enthalpy [J/kg]</th>\n",
       "      <td>391139.719531</td>\n",
       "    </tr>\n",
       "    <tr>\n",
       "      <th>Entropy [J/kg]</th>\n",
       "      <td>1614.790549</td>\n",
       "    </tr>\n",
       "    <tr>\n",
       "      <th>Thermal Cond. [W/(mK)]</th>\n",
       "      <td>0.050473</td>\n",
       "    </tr>\n",
       "    <tr>\n",
       "      <th>Viscosity [Pa-s]</th>\n",
       "      <td>0.000024</td>\n",
       "    </tr>\n",
       "    <tr>\n",
       "      <th>Prandtl</th>\n",
       "      <td>3.039417</td>\n",
       "    </tr>\n",
       "  </tbody>\n",
       "</table>\n",
       "</div>"
      ],
      "text/plain": [
       "                           Inlet sCO2\n",
       "Density [kg/m^3]           321.422100\n",
       "Enthalpy [J/kg]         391139.719531\n",
       "Entropy [J/kg]            1614.790549\n",
       "Thermal Cond. [W/(mK)]       0.050473\n",
       "Viscosity [Pa-s]             0.000024\n",
       "Prandtl                      3.039417"
      ]
     },
     "execution_count": 12,
     "metadata": {},
     "output_type": "execute_result"
    }
   ],
   "source": [
    "# Obtain fluid properties from inlet conditions\n",
    "\n",
    "sCO2_inlet = RP.REFPROPdll(\"CO2\",\"PT\",\"D;H;S;TCX;VIS;PRANDTL\", MASS_BASE_SI,0,0,P_in,T_in,[1.0])\n",
    "\n",
    "# Outputs will be placed into data frame for organization\n",
    "sCO2_inlet = pd.DataFrame(sCO2_inlet.Output[0:6],\n",
    "            index = ['Density [kg/m^3]', 'Enthalpy [J/kg]', 'Entropy [J/kg]',\n",
    "                     'Thermal Cond. [W/(mK)]', 'Viscosity [Pa-s]', 'Prandtl'],\n",
    "            columns = ['Inlet sCO2'])\n",
    "\n",
    "# Display the data frame\n",
    "sCO2_inlet"
   ]
  },
  {
   "cell_type": "code",
   "execution_count": 13,
   "id": "2af172cc-0452-48ad-97ba-75b5c1a47a0a",
   "metadata": {},
   "outputs": [],
   "source": [
    "# Specify the desired outlet conditons \n",
    "\n",
    "P_out = 1219.909 # [psia] (This value is estimated and will be found later)\n",
    "T_out = 37 # [Celsius]\n",
    "\n",
    "P_out = P_out * 6894.8 # convert psi to Pa\n",
    "T_out = T_out + 273.15 # convert Celsius to Kelvin"
   ]
  },
  {
   "cell_type": "code",
   "execution_count": 14,
   "id": "33628741-f421-4ba8-9331-b6819fcbcc43",
   "metadata": {},
   "outputs": [
    {
     "data": {
      "text/html": [
       "<div>\n",
       "<style scoped>\n",
       "    .dataframe tbody tr th:only-of-type {\n",
       "        vertical-align: middle;\n",
       "    }\n",
       "\n",
       "    .dataframe tbody tr th {\n",
       "        vertical-align: top;\n",
       "    }\n",
       "\n",
       "    .dataframe thead th {\n",
       "        text-align: right;\n",
       "    }\n",
       "</style>\n",
       "<table border=\"1\" class=\"dataframe\">\n",
       "  <thead>\n",
       "    <tr style=\"text-align: right;\">\n",
       "      <th></th>\n",
       "      <th>Outlet sCO2</th>\n",
       "    </tr>\n",
       "  </thead>\n",
       "  <tbody>\n",
       "    <tr>\n",
       "      <th>Density [kg/m^3]</th>\n",
       "      <td>466.951605</td>\n",
       "    </tr>\n",
       "    <tr>\n",
       "      <th>Enthalpy [J/kg]</th>\n",
       "      <td>343477.512951</td>\n",
       "    </tr>\n",
       "    <tr>\n",
       "      <th>Entropy [J/kg]</th>\n",
       "      <td>1463.017740</td>\n",
       "    </tr>\n",
       "    <tr>\n",
       "      <th>Thermal Cond. [W/(mK)]</th>\n",
       "      <td>0.079224</td>\n",
       "    </tr>\n",
       "    <tr>\n",
       "      <th>Viscosity [Pa-s]</th>\n",
       "      <td>0.000033</td>\n",
       "    </tr>\n",
       "    <tr>\n",
       "      <th>Prandtl</th>\n",
       "      <td>8.353514</td>\n",
       "    </tr>\n",
       "  </tbody>\n",
       "</table>\n",
       "</div>"
      ],
      "text/plain": [
       "                          Outlet sCO2\n",
       "Density [kg/m^3]           466.951605\n",
       "Enthalpy [J/kg]         343477.512951\n",
       "Entropy [J/kg]            1463.017740\n",
       "Thermal Cond. [W/(mK)]       0.079224\n",
       "Viscosity [Pa-s]             0.000033\n",
       "Prandtl                      8.353514"
      ]
     },
     "execution_count": 14,
     "metadata": {},
     "output_type": "execute_result"
    }
   ],
   "source": [
    "# Obtain fluid properties from the desired outlet conditions\n",
    "\n",
    "sCO2_outlet = RP.REFPROPdll(\"CO2\",\"PT\",\"D;H;S;TCX;VIS;PRANDTL\", MASS_BASE_SI,0,0,P_out,T_out,[1.0])\n",
    "\n",
    "# Outputs will be placed into data frame for organization\n",
    "sCO2_outlet = pd.DataFrame(sCO2_outlet.Output[0:6],\n",
    "            index = ['Density [kg/m^3]', 'Enthalpy [J/kg]', 'Entropy [J/kg]',\n",
    "                     'Thermal Cond. [W/(mK)]', 'Viscosity [Pa-s]', 'Prandtl'],\n",
    "            columns = ['Outlet sCO2'])\n",
    "\n",
    "# Display the data frame\n",
    "sCO2_outlet"
   ]
  },
  {
   "cell_type": "code",
   "execution_count": 15,
   "id": "1ad0b1ec-05fc-476a-bb6d-a8883ff40ff5",
   "metadata": {},
   "outputs": [
    {
     "data": {
      "text/html": [
       "<div>\n",
       "<style scoped>\n",
       "    .dataframe tbody tr th:only-of-type {\n",
       "        vertical-align: middle;\n",
       "    }\n",
       "\n",
       "    .dataframe tbody tr th {\n",
       "        vertical-align: top;\n",
       "    }\n",
       "\n",
       "    .dataframe thead th {\n",
       "        text-align: right;\n",
       "    }\n",
       "</style>\n",
       "<table border=\"1\" class=\"dataframe\">\n",
       "  <thead>\n",
       "    <tr style=\"text-align: right;\">\n",
       "      <th></th>\n",
       "      <th>Inlet sCO2</th>\n",
       "      <th>Outlet sCO2</th>\n",
       "    </tr>\n",
       "  </thead>\n",
       "  <tbody>\n",
       "    <tr>\n",
       "      <th>Density [kg/m^3]</th>\n",
       "      <td>321.422100</td>\n",
       "      <td>466.951605</td>\n",
       "    </tr>\n",
       "    <tr>\n",
       "      <th>Enthalpy [J/kg]</th>\n",
       "      <td>391139.719531</td>\n",
       "      <td>343477.512951</td>\n",
       "    </tr>\n",
       "    <tr>\n",
       "      <th>Entropy [J/kg]</th>\n",
       "      <td>1614.790549</td>\n",
       "      <td>1463.017740</td>\n",
       "    </tr>\n",
       "    <tr>\n",
       "      <th>Thermal Cond. [W/(mK)]</th>\n",
       "      <td>0.050473</td>\n",
       "      <td>0.079224</td>\n",
       "    </tr>\n",
       "    <tr>\n",
       "      <th>Viscosity [Pa-s]</th>\n",
       "      <td>0.000024</td>\n",
       "      <td>0.000033</td>\n",
       "    </tr>\n",
       "    <tr>\n",
       "      <th>Prandtl</th>\n",
       "      <td>3.039417</td>\n",
       "      <td>8.353514</td>\n",
       "    </tr>\n",
       "  </tbody>\n",
       "</table>\n",
       "</div>"
      ],
      "text/plain": [
       "                           Inlet sCO2    Outlet sCO2\n",
       "Density [kg/m^3]           321.422100     466.951605\n",
       "Enthalpy [J/kg]         391139.719531  343477.512951\n",
       "Entropy [J/kg]            1614.790549    1463.017740\n",
       "Thermal Cond. [W/(mK)]       0.050473       0.079224\n",
       "Viscosity [Pa-s]             0.000024       0.000033\n",
       "Prandtl                      3.039417       8.353514"
      ]
     },
     "execution_count": 15,
     "metadata": {},
     "output_type": "execute_result"
    }
   ],
   "source": [
    "# Combine both data frames (will be used to call data for analysis)\n",
    "sCO2 = pd.concat([sCO2_inlet, sCO2_outlet], axis =1)\n",
    "\n",
    "# Display the data frame to ensure proper layout\n",
    "sCO2"
   ]
  },
  {
   "cell_type": "code",
   "execution_count": 16,
   "id": "15fd5cca-4e08-434d-80ab-97e494e3b9de",
   "metadata": {},
   "outputs": [],
   "source": [
    "# Find fluid properties at the mean temperature\n",
    "P_mean = (P_in + P_out)/2 # [Pa] \n",
    "T_mean = (T_in + T_out)/2 # [Kelvin]\n"
   ]
  },
  {
   "cell_type": "code",
   "execution_count": 17,
   "id": "a9ff7703-b338-40d9-b312-3896d5e872ae",
   "metadata": {},
   "outputs": [
    {
     "data": {
      "text/html": [
       "<div>\n",
       "<style scoped>\n",
       "    .dataframe tbody tr th:only-of-type {\n",
       "        vertical-align: middle;\n",
       "    }\n",
       "\n",
       "    .dataframe tbody tr th {\n",
       "        vertical-align: top;\n",
       "    }\n",
       "\n",
       "    .dataframe thead th {\n",
       "        text-align: right;\n",
       "    }\n",
       "</style>\n",
       "<table border=\"1\" class=\"dataframe\">\n",
       "  <thead>\n",
       "    <tr style=\"text-align: right;\">\n",
       "      <th></th>\n",
       "      <th>Mean sCO2</th>\n",
       "    </tr>\n",
       "  </thead>\n",
       "  <tbody>\n",
       "    <tr>\n",
       "      <th>Density [kg/m^3]</th>\n",
       "      <td>363.026294</td>\n",
       "    </tr>\n",
       "    <tr>\n",
       "      <th>Enthalpy [J/kg]</th>\n",
       "      <td>374990.467122</td>\n",
       "    </tr>\n",
       "    <tr>\n",
       "      <th>Entropy [J/kg]</th>\n",
       "      <td>1563.833714</td>\n",
       "    </tr>\n",
       "    <tr>\n",
       "      <th>Thermal Cond. [W/(mK)]</th>\n",
       "      <td>0.060396</td>\n",
       "    </tr>\n",
       "    <tr>\n",
       "      <th>Viscosity [Pa-s]</th>\n",
       "      <td>0.000026</td>\n",
       "    </tr>\n",
       "    <tr>\n",
       "      <th>Prandtl</th>\n",
       "      <td>4.403071</td>\n",
       "    </tr>\n",
       "  </tbody>\n",
       "</table>\n",
       "</div>"
      ],
      "text/plain": [
       "                            Mean sCO2\n",
       "Density [kg/m^3]           363.026294\n",
       "Enthalpy [J/kg]         374990.467122\n",
       "Entropy [J/kg]            1563.833714\n",
       "Thermal Cond. [W/(mK)]       0.060396\n",
       "Viscosity [Pa-s]             0.000026\n",
       "Prandtl                      4.403071"
      ]
     },
     "execution_count": 17,
     "metadata": {},
     "output_type": "execute_result"
    }
   ],
   "source": [
    "# Obtain fluid properties from the mean pressure and temperature\n",
    "\n",
    "sCO2_mean = RP.REFPROPdll(\"CO2\",\"PT\",\"D;H;S;TCX;VIS;PRANDTL\", MASS_BASE_SI,0,0,P_mean,T_mean,[1.0])\n",
    "\n",
    "# Outputs will be placed into data frame for organization\n",
    "sCO2_mean = pd.DataFrame(sCO2_mean.Output[0:6],\n",
    "            index = ['Density [kg/m^3]', 'Enthalpy [J/kg]', 'Entropy [J/kg]',\n",
    "                     'Thermal Cond. [W/(mK)]', 'Viscosity [Pa-s]', 'Prandtl'],\n",
    "            columns = ['Mean sCO2'])\n",
    "\n",
    "# Display the data frame\n",
    "sCO2_mean"
   ]
  },
  {
   "cell_type": "code",
   "execution_count": 18,
   "id": "8222b616-f440-4d10-a913-61cd92ec4363",
   "metadata": {},
   "outputs": [
    {
     "data": {
      "text/html": [
       "<div>\n",
       "<style scoped>\n",
       "    .dataframe tbody tr th:only-of-type {\n",
       "        vertical-align: middle;\n",
       "    }\n",
       "\n",
       "    .dataframe tbody tr th {\n",
       "        vertical-align: top;\n",
       "    }\n",
       "\n",
       "    .dataframe thead th {\n",
       "        text-align: right;\n",
       "    }\n",
       "</style>\n",
       "<table border=\"1\" class=\"dataframe\">\n",
       "  <thead>\n",
       "    <tr style=\"text-align: right;\">\n",
       "      <th></th>\n",
       "      <th>Inlet sCO2</th>\n",
       "      <th>Outlet sCO2</th>\n",
       "      <th>Mean sCO2</th>\n",
       "    </tr>\n",
       "  </thead>\n",
       "  <tbody>\n",
       "    <tr>\n",
       "      <th>Density [kg/m^3]</th>\n",
       "      <td>321.422100</td>\n",
       "      <td>466.951605</td>\n",
       "      <td>363.026294</td>\n",
       "    </tr>\n",
       "    <tr>\n",
       "      <th>Enthalpy [J/kg]</th>\n",
       "      <td>391139.719531</td>\n",
       "      <td>343477.512951</td>\n",
       "      <td>374990.467122</td>\n",
       "    </tr>\n",
       "    <tr>\n",
       "      <th>Entropy [J/kg]</th>\n",
       "      <td>1614.790549</td>\n",
       "      <td>1463.017740</td>\n",
       "      <td>1563.833714</td>\n",
       "    </tr>\n",
       "    <tr>\n",
       "      <th>Thermal Cond. [W/(mK)]</th>\n",
       "      <td>0.050473</td>\n",
       "      <td>0.079224</td>\n",
       "      <td>0.060396</td>\n",
       "    </tr>\n",
       "    <tr>\n",
       "      <th>Viscosity [Pa-s]</th>\n",
       "      <td>0.000024</td>\n",
       "      <td>0.000033</td>\n",
       "      <td>0.000026</td>\n",
       "    </tr>\n",
       "    <tr>\n",
       "      <th>Prandtl</th>\n",
       "      <td>3.039417</td>\n",
       "      <td>8.353514</td>\n",
       "      <td>4.403071</td>\n",
       "    </tr>\n",
       "  </tbody>\n",
       "</table>\n",
       "</div>"
      ],
      "text/plain": [
       "                           Inlet sCO2    Outlet sCO2      Mean sCO2\n",
       "Density [kg/m^3]           321.422100     466.951605     363.026294\n",
       "Enthalpy [J/kg]         391139.719531  343477.512951  374990.467122\n",
       "Entropy [J/kg]            1614.790549    1463.017740    1563.833714\n",
       "Thermal Cond. [W/(mK)]       0.050473       0.079224       0.060396\n",
       "Viscosity [Pa-s]             0.000024       0.000033       0.000026\n",
       "Prandtl                      3.039417       8.353514       4.403071"
      ]
     },
     "execution_count": 18,
     "metadata": {},
     "output_type": "execute_result"
    }
   ],
   "source": [
    "# Combine into the previous data frame\n",
    "sCO2 = pd.concat([sCO2, sCO2_mean], axis =1)\n",
    "\n",
    "# Display the data frame to ensure proper layout\n",
    "sCO2"
   ]
  },
  {
   "cell_type": "code",
   "execution_count": 19,
   "id": "5deb9407-acc5-46a9-a427-afc285aaab5f",
   "metadata": {},
   "outputs": [],
   "source": [
    "# Find the velocity at each of the conditions.\n",
    "# This will then be used to find the respective Reynolds Number, Nusselt Number,\n",
    "# and heat transfer coefficient (W/(m^2 * K))\n",
    "\n",
    "Inlet_vel = (4 * m_dot_sCO2) / (sCO2.loc['Density [kg/m^3]', 'Inlet sCO2'] * (math.pi) * Tube_ID**2) # [m/s]\n",
    "Outlet_vel = (4 * m_dot_sCO2) / (sCO2.loc['Density [kg/m^3]', 'Outlet sCO2'] * (math.pi) * Tube_ID**2) # [m/s]\n",
    "Mean_vel = (4 * m_dot_sCO2) / (sCO2.loc['Density [kg/m^3]', 'Mean sCO2'] * (math.pi) * Tube_ID**2) # [m/s]"
   ]
  },
  {
   "cell_type": "code",
   "execution_count": 20,
   "id": "35844b74-812f-4531-89d8-7f2fced5133f",
   "metadata": {},
   "outputs": [],
   "source": [
    "# Find the Reynolds Number\n",
    "Inlet_Rey = sCO2.loc['Density [kg/m^3]', 'Inlet sCO2'] * Inlet_vel * Tube_ID / sCO2.loc['Viscosity [Pa-s]', 'Inlet sCO2']\n",
    "Outlet_Rey = sCO2.loc['Density [kg/m^3]', 'Outlet sCO2'] * Outlet_vel * Tube_ID / sCO2.loc['Viscosity [Pa-s]', 'Outlet sCO2']\n",
    "Mean_Rey = sCO2.loc['Density [kg/m^3]', 'Mean sCO2'] * Mean_vel * Tube_ID / sCO2.loc['Viscosity [Pa-s]', 'Mean sCO2']"
   ]
  },
  {
   "cell_type": "code",
   "execution_count": 21,
   "id": "7c6958a5-c561-494d-af97-2c38e1d5292a",
   "metadata": {},
   "outputs": [],
   "source": [
    "# Find the Nusselt Number\n",
    "Inlet_Nus = 0.0265 * Inlet_Rey**(4/5) * (sCO2.loc['Prandtl', 'Inlet sCO2'])**(0.3)\n",
    "Outlet_Nus = 0.0265 * Outlet_Rey**(4/5) * (sCO2.loc['Prandtl', 'Outlet sCO2'])**(0.3)\n",
    "Mean_Nus = 0.0265 * Mean_Rey**(4/5) * (sCO2.loc['Prandtl', 'Mean sCO2'])**(0.3)"
   ]
  },
  {
   "cell_type": "code",
   "execution_count": 22,
   "id": "7a7afbfe-eb67-4caf-9e84-ab41dfc6f7b6",
   "metadata": {},
   "outputs": [
    {
     "name": "stdout",
     "output_type": "stream",
     "text": [
      "11902.181130780757\n",
      "19788.670692633186\n",
      "14916.570069652338\n"
     ]
    }
   ],
   "source": [
    "# Using Nusselt Number, find the Heat transfer Coefficient (W/(m^2 * K))\n",
    "Inlet_h_sCO2 = Inlet_Nus * (sCO2.loc['Thermal Cond. [W/(mK)]', 'Inlet sCO2']) / Tube_ID\n",
    "Outlet_h_sCO2 = Outlet_Nus * (sCO2.loc['Thermal Cond. [W/(mK)]', 'Outlet sCO2']) / Tube_ID\n",
    "Mean_h_sCO2 = Mean_Nus * (sCO2.loc['Thermal Cond. [W/(mK)]', 'Mean sCO2']) / Tube_ID\n",
    "\n",
    "print(Inlet_h_sCO2)\n",
    "print(Outlet_h_sCO2)\n",
    "print(Mean_h_sCO2)"
   ]
  },
  {
   "cell_type": "code",
   "execution_count": 23,
   "id": "3157b66c-b517-4ca2-9736-53cea0a902ad",
   "metadata": {},
   "outputs": [],
   "source": [
    "#### Water Properties"
   ]
  },
  {
   "cell_type": "code",
   "execution_count": 24,
   "id": "bf44bfbf-5b60-450b-af29-eafeb103cb16",
   "metadata": {},
   "outputs": [],
   "source": [
    "# Specify inlet conditions\n",
    "\n",
    "P_in_water = 14.7 # [psia]\n",
    "T_in_water = 25 # [Celsius]\n",
    "\n",
    "P_in_water = P_in_water * 6894.8 # convert psi to Pa\n",
    "T_in_water = T_in_water + 273.15 # convert Celsius to Kelvin"
   ]
  },
  {
   "cell_type": "code",
   "execution_count": 25,
   "id": "bb6ea9ac-042c-4034-9679-3a414c36dcc3",
   "metadata": {},
   "outputs": [
    {
     "data": {
      "text/html": [
       "<div>\n",
       "<style scoped>\n",
       "    .dataframe tbody tr th:only-of-type {\n",
       "        vertical-align: middle;\n",
       "    }\n",
       "\n",
       "    .dataframe tbody tr th {\n",
       "        vertical-align: top;\n",
       "    }\n",
       "\n",
       "    .dataframe thead th {\n",
       "        text-align: right;\n",
       "    }\n",
       "</style>\n",
       "<table border=\"1\" class=\"dataframe\">\n",
       "  <thead>\n",
       "    <tr style=\"text-align: right;\">\n",
       "      <th></th>\n",
       "      <th>Inlet Water</th>\n",
       "    </tr>\n",
       "  </thead>\n",
       "  <tbody>\n",
       "    <tr>\n",
       "      <th>Density [kg/m^3]</th>\n",
       "      <td>997.047650</td>\n",
       "    </tr>\n",
       "    <tr>\n",
       "      <th>Enthalpy [J/kg]</th>\n",
       "      <td>104920.146257</td>\n",
       "    </tr>\n",
       "    <tr>\n",
       "      <th>Entropy [J/kg]</th>\n",
       "      <td>367.199635</td>\n",
       "    </tr>\n",
       "    <tr>\n",
       "      <th>Thermal Cond. [W/(mK)]</th>\n",
       "      <td>0.606516</td>\n",
       "    </tr>\n",
       "    <tr>\n",
       "      <th>Viscosity [Pa-s]</th>\n",
       "      <td>0.000890</td>\n",
       "    </tr>\n",
       "    <tr>\n",
       "      <th>Prandtl</th>\n",
       "      <td>6.135805</td>\n",
       "    </tr>\n",
       "  </tbody>\n",
       "</table>\n",
       "</div>"
      ],
      "text/plain": [
       "                          Inlet Water\n",
       "Density [kg/m^3]           997.047650\n",
       "Enthalpy [J/kg]         104920.146257\n",
       "Entropy [J/kg]             367.199635\n",
       "Thermal Cond. [W/(mK)]       0.606516\n",
       "Viscosity [Pa-s]             0.000890\n",
       "Prandtl                      6.135805"
      ]
     },
     "execution_count": 25,
     "metadata": {},
     "output_type": "execute_result"
    }
   ],
   "source": [
    "# Obtain fluid properties from inlet conditions\n",
    "\n",
    "Water_inlet = RP.REFPROPdll(\"Water\",\"PT\",\"D;H;S;TCX;VIS;PRANDTL\", MASS_BASE_SI,0,0,P_in_water,T_in_water,[1.0])\n",
    "\n",
    "# Outputs will be placed into data frame for organization\n",
    "Water_inlet = pd.DataFrame(Water_inlet.Output[0:6],\n",
    "            index = ['Density [kg/m^3]', 'Enthalpy [J/kg]', 'Entropy [J/kg]',\n",
    "                     'Thermal Cond. [W/(mK)]', 'Viscosity [Pa-s]', 'Prandtl'],\n",
    "            columns = ['Inlet Water'])\n",
    "\n",
    "# Display the data frame\n",
    "Water_inlet"
   ]
  },
  {
   "cell_type": "code",
   "execution_count": 26,
   "id": "f4051ab5-9dba-45ca-9f5b-608372946c79",
   "metadata": {},
   "outputs": [
    {
     "data": {
      "text/plain": [
       "0.9435585358597339"
      ]
     },
     "execution_count": 26,
     "metadata": {},
     "output_type": "execute_result"
    }
   ],
   "source": [
    "# Using Energy Balance, find the outlet Enthalpy of the water at a specified \n",
    "# flow rate of water\n",
    "\n",
    "Flow_water = 15 # gallons per minute of water\n",
    "Flow_water = Flow_water * 0.00378541 # Convert gallons to meters cubed\n",
    "m_dot_water = Flow_water / 60 * Water_inlet.loc['Density [kg/m^3]', 'Inlet Water']\n",
    "m_dot_water"
   ]
  },
  {
   "cell_type": "code",
   "execution_count": 27,
   "id": "cd266661-38a0-47c6-8f9a-241866947138",
   "metadata": {},
   "outputs": [
    {
     "data": {
      "text/plain": [
       "115022.79591117849"
      ]
     },
     "execution_count": 27,
     "metadata": {},
     "output_type": "execute_result"
    }
   ],
   "source": [
    "# Conduct Energy Balance and find the outlet enthalpy\n",
    "\n",
    "Water_Outlet_Enth = ((m_dot_sCO2 * (sCO2.loc['Enthalpy [J/kg]', 'Inlet sCO2'] - sCO2.loc['Enthalpy [J/kg]', 'Outlet sCO2']) / m_dot_water + Water_inlet.loc['Enthalpy [J/kg]', 'Inlet Water']))\n",
    "Water_Outlet_Enth # [J/kg]"
   ]
  },
  {
   "cell_type": "code",
   "execution_count": 28,
   "id": "6fa014ab-6f83-4577-8ad2-a13b4f29ca54",
   "metadata": {},
   "outputs": [
    {
     "data": {
      "text/html": [
       "<div>\n",
       "<style scoped>\n",
       "    .dataframe tbody tr th:only-of-type {\n",
       "        vertical-align: middle;\n",
       "    }\n",
       "\n",
       "    .dataframe tbody tr th {\n",
       "        vertical-align: top;\n",
       "    }\n",
       "\n",
       "    .dataframe thead th {\n",
       "        text-align: right;\n",
       "    }\n",
       "</style>\n",
       "<table border=\"1\" class=\"dataframe\">\n",
       "  <thead>\n",
       "    <tr style=\"text-align: right;\">\n",
       "      <th></th>\n",
       "      <th>Outlet Water</th>\n",
       "    </tr>\n",
       "  </thead>\n",
       "  <tbody>\n",
       "    <tr>\n",
       "      <th>Temperature [K]</th>\n",
       "      <td>300.566402</td>\n",
       "    </tr>\n",
       "    <tr>\n",
       "      <th>Density [kg/m^3]</th>\n",
       "      <td>996.400362</td>\n",
       "    </tr>\n",
       "    <tr>\n",
       "      <th>Entropy [J/kg]</th>\n",
       "      <td>400.947519</td>\n",
       "    </tr>\n",
       "    <tr>\n",
       "      <th>Thermal Cond. [W/(mK)]</th>\n",
       "      <td>0.610397</td>\n",
       "    </tr>\n",
       "    <tr>\n",
       "      <th>Viscosity [Pa-s]</th>\n",
       "      <td>0.000843</td>\n",
       "    </tr>\n",
       "    <tr>\n",
       "      <th>Prandtl</th>\n",
       "      <td>5.774259</td>\n",
       "    </tr>\n",
       "  </tbody>\n",
       "</table>\n",
       "</div>"
      ],
      "text/plain": [
       "                        Outlet Water\n",
       "Temperature [K]           300.566402\n",
       "Density [kg/m^3]          996.400362\n",
       "Entropy [J/kg]            400.947519\n",
       "Thermal Cond. [W/(mK)]      0.610397\n",
       "Viscosity [Pa-s]            0.000843\n",
       "Prandtl                     5.774259"
      ]
     },
     "execution_count": 28,
     "metadata": {},
     "output_type": "execute_result"
    }
   ],
   "source": [
    "# Obtain fluid properties for outlet conditions\n",
    "\n",
    "Water_outlet = RP.REFPROPdll(\"Water\",\"PH\",\"T;D;S;TCX;VIS;PRANDTL\", MASS_BASE_SI,0,0,P_in_water,Water_Outlet_Enth,[1.0])\n",
    "\n",
    "# Outputs will be placed into data frame for organization\n",
    "Water_outlet = pd.DataFrame(Water_outlet.Output[0:6],\n",
    "            index = ['Temperature [K]', 'Density [kg/m^3]', 'Entropy [J/kg]',\n",
    "                     'Thermal Cond. [W/(mK)]', 'Viscosity [Pa-s]', 'Prandtl'],\n",
    "            columns = ['Outlet Water'])\n",
    "\n",
    "# Display the data frame\n",
    "Water_outlet"
   ]
  },
  {
   "cell_type": "code",
   "execution_count": 29,
   "id": "fb22523e-2e8c-49b9-98c1-dccb7fbdd275",
   "metadata": {},
   "outputs": [
    {
     "data": {
      "text/html": [
       "<div>\n",
       "<style scoped>\n",
       "    .dataframe tbody tr th:only-of-type {\n",
       "        vertical-align: middle;\n",
       "    }\n",
       "\n",
       "    .dataframe tbody tr th {\n",
       "        vertical-align: top;\n",
       "    }\n",
       "\n",
       "    .dataframe thead th {\n",
       "        text-align: right;\n",
       "    }\n",
       "</style>\n",
       "<table border=\"1\" class=\"dataframe\">\n",
       "  <thead>\n",
       "    <tr style=\"text-align: right;\">\n",
       "      <th></th>\n",
       "      <th>Inlet Water</th>\n",
       "      <th>Outlet Water</th>\n",
       "    </tr>\n",
       "  </thead>\n",
       "  <tbody>\n",
       "    <tr>\n",
       "      <th>Density [kg/m^3]</th>\n",
       "      <td>997.047650</td>\n",
       "      <td>996.400362</td>\n",
       "    </tr>\n",
       "    <tr>\n",
       "      <th>Enthalpy [J/kg]</th>\n",
       "      <td>104920.146257</td>\n",
       "      <td>115022.795911</td>\n",
       "    </tr>\n",
       "    <tr>\n",
       "      <th>Entropy [J/kg]</th>\n",
       "      <td>367.199635</td>\n",
       "      <td>400.947519</td>\n",
       "    </tr>\n",
       "    <tr>\n",
       "      <th>Thermal Cond. [W/(mK)]</th>\n",
       "      <td>0.606516</td>\n",
       "      <td>0.610397</td>\n",
       "    </tr>\n",
       "    <tr>\n",
       "      <th>Viscosity [Pa-s]</th>\n",
       "      <td>0.000890</td>\n",
       "      <td>0.000843</td>\n",
       "    </tr>\n",
       "    <tr>\n",
       "      <th>Prandtl</th>\n",
       "      <td>6.135805</td>\n",
       "      <td>5.774259</td>\n",
       "    </tr>\n",
       "    <tr>\n",
       "      <th>Temperature [K]</th>\n",
       "      <td>298.150000</td>\n",
       "      <td>300.566402</td>\n",
       "    </tr>\n",
       "  </tbody>\n",
       "</table>\n",
       "</div>"
      ],
      "text/plain": [
       "                          Inlet Water   Outlet Water\n",
       "Density [kg/m^3]           997.047650     996.400362\n",
       "Enthalpy [J/kg]         104920.146257  115022.795911\n",
       "Entropy [J/kg]             367.199635     400.947519\n",
       "Thermal Cond. [W/(mK)]       0.606516       0.610397\n",
       "Viscosity [Pa-s]             0.000890       0.000843\n",
       "Prandtl                      6.135805       5.774259\n",
       "Temperature [K]            298.150000     300.566402"
      ]
     },
     "execution_count": 29,
     "metadata": {},
     "output_type": "execute_result"
    }
   ],
   "source": [
    "# Combine both data frames (will be used to call data for analysis)\n",
    "Water = pd.concat([Water_inlet, Water_outlet], axis =1)\n",
    "\n",
    "# Add data into the data frame\n",
    "Water.loc['Enthalpy [J/kg]', 'Outlet Water'] = Water_Outlet_Enth\n",
    "Water.loc['Temperature [K]', 'Inlet Water'] = T_in_water\n",
    "# Display the data frame to ensure proper layout\n",
    "Water"
   ]
  },
  {
   "cell_type": "code",
   "execution_count": 30,
   "id": "dbbc883c-c6f1-4900-9e83-0a38c65a15bb",
   "metadata": {},
   "outputs": [
    {
     "data": {
      "text/plain": [
       "0.5621643196392534"
      ]
     },
     "execution_count": 30,
     "metadata": {},
     "output_type": "execute_result"
    }
   ],
   "source": [
    "# Find the mean Velocity of Water flowing\n",
    "Water_vel = 4 * m_dot_water / (((Water.loc['Density [kg/m^3]', 'Inlet Water'] + Water.loc['Density [kg/m^3]', 'Outlet Water'])/2) \\\n",
    "             * math.pi * Hyd_Dia**2)\n",
    "\n",
    "Water_vel # [m/s]"
   ]
  },
  {
   "cell_type": "code",
   "execution_count": 31,
   "id": "9a5e0a6c-930c-488e-9c95-436fd8e92ca4",
   "metadata": {},
   "outputs": [
    {
     "data": {
      "text/plain": [
       "29940.33666959523"
      ]
     },
     "execution_count": 31,
     "metadata": {},
     "output_type": "execute_result"
    }
   ],
   "source": [
    "# Find the Reynolds Number\n",
    "Water_Rey = ((Water.loc['Density [kg/m^3]', 'Inlet Water'] + Water.loc['Density [kg/m^3]', 'Outlet Water'])/2) * \\\n",
    "            Water_vel * Hyd_Dia / ((Water.loc['Viscosity [Pa-s]', 'Inlet Water'] + Water.loc['Viscosity [Pa-s]', 'Outlet Water'])/2)\n",
    "\n",
    "Water_Rey"
   ]
  },
  {
   "cell_type": "code",
   "execution_count": 32,
   "id": "411c2b5b-c0ca-45d7-8887-abde3917d2f6",
   "metadata": {},
   "outputs": [
    {
     "data": {
      "text/plain": [
       "189.04502275012047"
      ]
     },
     "execution_count": 32,
     "metadata": {},
     "output_type": "execute_result"
    }
   ],
   "source": [
    "# Find the Nusselt Number\n",
    "Water_Nus = 0.0243 * Water_Rey**(4/5) * \\\n",
    "            ((Water.loc['Prandtl', 'Inlet Water'] + Water.loc['Prandtl', 'Outlet Water'])/2)**(0.4)\n",
    "\n",
    "Water_Nus"
   ]
  },
  {
   "cell_type": "code",
   "execution_count": 33,
   "id": "5271d7e7-36d8-429d-b4d1-a6b2d6b69190",
   "metadata": {},
   "outputs": [
    {
     "data": {
      "text/plain": [
       "2484.130165432124"
      ]
     },
     "execution_count": 33,
     "metadata": {},
     "output_type": "execute_result"
    }
   ],
   "source": [
    "# Using Nusselt Number, find the Heat transfer Coefficient (W/(m^2 * K))\n",
    "h_Water = Water_Nus * ((Water.loc['Thermal Cond. [W/(mK)]', 'Inlet Water'] + Water.loc['Thermal Cond. [W/(mK)]', 'Outlet Water'])/2)\\\n",
    "            / Hyd_Dia\n",
    "\n",
    "h_Water"
   ]
  },
  {
   "cell_type": "code",
   "execution_count": 34,
   "id": "7a588d81-479e-49b9-a03f-5260e439ea50",
   "metadata": {},
   "outputs": [],
   "source": [
    "#### Analysis of Heat Exchanger"
   ]
  },
  {
   "cell_type": "code",
   "execution_count": 35,
   "id": "7a6ffc41-fbbc-4b53-a7d1-7e1d36a2191b",
   "metadata": {},
   "outputs": [
    {
     "data": {
      "text/plain": [
       "13.166640330098511"
      ]
     },
     "execution_count": 35,
     "metadata": {},
     "output_type": "execute_result"
    }
   ],
   "source": [
    "# Find the log mean temperature difference\n",
    "Delta_T1 = T_in - Water.loc['Temperature [K]', 'Outlet Water']\n",
    "Delta_T2 = T_out - Water.loc['Temperature [K]', 'Inlet Water']\n",
    "\n",
    "Log_Mean_T = (Delta_T2 - Delta_T1) / math.log(Delta_T2/Delta_T1)\n",
    "Log_Mean_T"
   ]
  },
  {
   "cell_type": "code",
   "execution_count": 36,
   "id": "6bda8d62-76d0-456c-bb09-3e3207dfe54b",
   "metadata": {},
   "outputs": [
    {
     "data": {
      "text/plain": [
       "1725.761914908873"
      ]
     },
     "execution_count": 36,
     "metadata": {},
     "output_type": "execute_result"
    }
   ],
   "source": [
    "# Approximate resistance of the cylindrical tube using the slab formula \n",
    "# L/(kA)\n",
    "\n",
    "Rt_cond_approx = (Tube_OD - Tube_ID) / (2 * Tube_Therm) # [(m^2 * K) / W]\n",
    "Rt_conv_sCO2 = 1 / Inlet_h_sCO2 # [(m^2 * K) / W]\n",
    "Rt_conv_Water = 1 / h_Water\n",
    "\n",
    "U_inlet = 1 / (Rt_cond_approx + Rt_conv_sCO2 + Rt_conv_Water)\n",
    "U_inlet"
   ]
  },
  {
   "cell_type": "code",
   "execution_count": 37,
   "id": "5175954b-def8-4959-a4ea-7695e23ffa75",
   "metadata": {},
   "outputs": [
    {
     "data": {
      "text/plain": [
       "34.49687422024447"
      ]
     },
     "execution_count": 37,
     "metadata": {},
     "output_type": "execute_result"
    }
   ],
   "source": [
    "# Find the Length of tube neccessary for the Heat Exchanger\n",
    "Length = (m_dot_sCO2 * (sCO2.loc['Enthalpy [J/kg]', 'Inlet sCO2'] - sCO2.loc['Enthalpy [J/kg]', 'Outlet sCO2']))\\\n",
    "          / (U_inlet * Log_Mean_T * math.pi * Tube_OD)\n",
    "\n",
    "Length = Length * 3.28084 # Converts meters to feet\n",
    "Length # This length uses inlet conditions of sCO2 to approximate length in feet"
   ]
  },
  {
   "cell_type": "code",
   "execution_count": 38,
   "id": "55a2b600-21b1-4b55-825a-9dffa3af2f7d",
   "metadata": {},
   "outputs": [
    {
     "data": {
      "text/plain": [
       "1831.602611847886"
      ]
     },
     "execution_count": 38,
     "metadata": {},
     "output_type": "execute_result"
    }
   ],
   "source": [
    "# Approximate resistance of the cylindrical tube using the slab formula \n",
    "# L/(kA)\n",
    "\n",
    "Rt_cond_approx = (Tube_OD - Tube_ID) / (2 * Tube_Therm) # [(m^2 * K) / W]\n",
    "Rt_conv_sCO2 = 1 / Outlet_h_sCO2 # [(m^2 * K) / W]\n",
    "Rt_conv_Water = 1 / h_Water\n",
    "\n",
    "U_outlet = 1 / (Rt_cond_approx + Rt_conv_sCO2 + Rt_conv_Water)\n",
    "U_outlet"
   ]
  },
  {
   "cell_type": "code",
   "execution_count": 39,
   "id": "b75c511e-d61c-4b74-9779-7b5987b044da",
   "metadata": {},
   "outputs": [
    {
     "data": {
      "text/plain": [
       "32.503443338419885"
      ]
     },
     "execution_count": 39,
     "metadata": {},
     "output_type": "execute_result"
    }
   ],
   "source": [
    "Length = (m_dot_sCO2 * (sCO2.loc['Enthalpy [J/kg]', 'Inlet sCO2'] - sCO2.loc['Enthalpy [J/kg]', 'Outlet sCO2']))\\\n",
    "          / (U_outlet * Log_Mean_T * math.pi * Tube_OD)\n",
    "\n",
    "Length = Length * 3.28084 # Converts meters to feet\n",
    "Length # This length uses outlet conditions of sCO2 to approximate length in feet"
   ]
  },
  {
   "cell_type": "code",
   "execution_count": 40,
   "id": "3e1eddfa-769f-4bfb-ae53-5d2e51fc6421",
   "metadata": {},
   "outputs": [
    {
     "data": {
      "text/plain": [
       "1777.8551111482186"
      ]
     },
     "execution_count": 40,
     "metadata": {},
     "output_type": "execute_result"
    }
   ],
   "source": [
    "# Approximate resistance of the cylindrical tube using the slab formula \n",
    "# L/(kA)\n",
    "\n",
    "Rt_cond_approx = (Tube_OD - Tube_ID) / (2 * Tube_Therm) # [(m^2 * K) / W]\n",
    "Rt_conv_sCO2 = 1 / Mean_h_sCO2 # [(m^2 * K) / W]\n",
    "Rt_conv_Water = 1 / h_Water\n",
    "\n",
    "U_mean = 1 / (Rt_cond_approx + Rt_conv_sCO2 + Rt_conv_Water)\n",
    "U_mean"
   ]
  },
  {
   "cell_type": "code",
   "execution_count": 41,
   "id": "5b6b4c0b-4b87-4d51-ae43-5465d28481b9",
   "metadata": {},
   "outputs": [
    {
     "data": {
      "text/plain": [
       "33.48607619338018"
      ]
     },
     "execution_count": 41,
     "metadata": {},
     "output_type": "execute_result"
    }
   ],
   "source": [
    "Length = (m_dot_sCO2 * (sCO2.loc['Enthalpy [J/kg]', 'Inlet sCO2'] - sCO2.loc['Enthalpy [J/kg]', 'Outlet sCO2']))\\\n",
    "          / (U_mean * Log_Mean_T * math.pi * Tube_OD)\n",
    "\n",
    "Length = Length * 3.28084 # Converts meters to feet\n",
    "Length # This length uses mean conditions of sCO2 to approximate length in feet"
   ]
  },
  {
   "cell_type": "code",
   "execution_count": 42,
   "id": "830c955e-bddd-4cb7-834c-c5c96a6017a8",
   "metadata": {},
   "outputs": [
    {
     "data": {
      "text/plain": [
       "-9.532441316148162"
      ]
     },
     "execution_count": 42,
     "metadata": {},
     "output_type": "execute_result"
    }
   ],
   "source": [
    "# Total Heat Dissipated with Heat Exchanger\n",
    "Q_Loss = -m_dot_sCO2 * (sCO2.loc['Enthalpy [J/kg]', 'Inlet sCO2'] - sCO2.loc['Enthalpy [J/kg]', 'Outlet sCO2'])\n",
    "Q_Loss/1000"
   ]
  },
  {
   "cell_type": "code",
   "execution_count": 43,
   "id": "63ffaacf-cd6b-4251-b8bb-18795e7dac60",
   "metadata": {},
   "outputs": [
    {
     "data": {
      "text/plain": [
       "10.693629651134554"
      ]
     },
     "execution_count": 43,
     "metadata": {},
     "output_type": "execute_result"
    }
   ],
   "source": [
    "Rt_cond_new =  math.log(Tube_OD/Tube_ID) / (2 * math.pi * Tube_Therm) # [(m^2 * K) / W]\n",
    "Rt_conv_sCO2_new = 1 / (Mean_h_sCO2 * math.pi * Tube_ID) # [(m^2 * K) / W]\n",
    "Rt_conv_Water_new = 1 / (h_Water * math.pi * Tube_OD)\n",
    "\n",
    "L = (Rt_cond_new + Rt_conv_sCO2_new + Rt_conv_Water_new) * (m_dot_sCO2 * (sCO2.loc['Enthalpy [J/kg]', 'Inlet sCO2'] - sCO2.loc['Enthalpy [J/kg]', 'Outlet sCO2'])) / Log_Mean_T\n",
    "L                                                                                                    "
   ]
  },
  {
   "cell_type": "code",
   "execution_count": 44,
   "id": "7b3c5cc0-d064-4bfc-87ab-12c242ef88a0",
   "metadata": {},
   "outputs": [],
   "source": [
    "#### Pinch Temperature Analysis"
   ]
  },
  {
   "cell_type": "code",
   "execution_count": 45,
   "id": "6e9d9121-f544-4512-927a-46dd425e6603",
   "metadata": {},
   "outputs": [],
   "source": [
    "# Find the Chnage in enthalpy and the change in pressure of both streams (sCO2 and Water)\n",
    "delta_h_hot = sCO2.loc['Enthalpy [J/kg]', 'Inlet sCO2'] - sCO2.loc['Enthalpy [J/kg]', 'Outlet sCO2']\n",
    "delta_h_cold = Water.loc['Enthalpy [J/kg]', 'Outlet Water'] - Water.loc['Enthalpy [J/kg]', 'Inlet Water']\n",
    "\n",
    "delta_p_sCO2 = P_in - P_out"
   ]
  },
  {
   "cell_type": "code",
   "execution_count": 46,
   "id": "03ef10a2-a493-4fac-b551-746f7c3257cc",
   "metadata": {},
   "outputs": [
    {
     "name": "stdout",
     "output_type": "stream",
     "text": [
      "[314.9729521045827, 314.195205399986, 313.5062649959401, 312.8978217701248, 312.36138412040265, 311.88842102869484, 311.4702577860432, 311.0977138072605, 310.7607301391102, 310.44843155322286, 310.150000025202]\n"
     ]
    }
   ],
   "source": [
    "# Iterate for Temperature development of sCO2\n",
    "\n",
    "T_sCO2 = []\n",
    "\n",
    "for k in range(0,11):\n",
    "    P =  P_in - (delta_p_sCO2 * k/10)\n",
    "    H = sCO2.loc['Enthalpy [J/kg]', 'Inlet sCO2'] - (delta_h_hot * k/10)\n",
    "    sCO2_T = RP.REFPROPdll(\"CO2\",\"PH\",\"T\", MASS_BASE_SI,0,0, P, H,[1.0]).Output[0]\n",
    "    T_sCO2.append(sCO2_T)\n",
    "    \n",
    "print(T_sCO2)  "
   ]
  },
  {
   "cell_type": "code",
   "execution_count": 47,
   "id": "40da1c0e-d4c2-476a-b1d7-7543f6caf4c1",
   "metadata": {},
   "outputs": [
    {
     "name": "stdout",
     "output_type": "stream",
     "text": [
      "[300.5664020730518, 300.3247405339781, 300.0830833328699, 299.84143061703895, 299.59978253579163, 299.3581392405218, 299.11650088468366, 298.87486762387624, 298.63323961587884, 298.39161702062927, 298.1500000003136]\n"
     ]
    }
   ],
   "source": [
    "# Iterate for Temperature development of Water\n",
    "\n",
    "T_Water = []\n",
    "Enth_Change = []\n",
    "for k in range(0,11):\n",
    "    H = Water.loc['Enthalpy [J/kg]', 'Outlet Water'] - (delta_h_cold * k/10)\n",
    "    Water_T = RP.REFPROPdll(\"Water\",\"PH\",\"T\", MASS_BASE_SI,0,0, P_in_water, H,[1.0]).Output[0]\n",
    "    T_Water.append(Water_T)\n",
    "    \n",
    "    Enth_Change.append(k/10)\n",
    "    \n",
    "print(T_Water)  "
   ]
  },
  {
   "cell_type": "code",
   "execution_count": 48,
   "id": "20626a8e-ab98-4e3d-b313-f62f0436066e",
   "metadata": {},
   "outputs": [
    {
     "data": {
      "image/png": "[encoded data removed]",
      "text/plain": [
       "<Figure size 576x432 with 1 Axes>"
      ]
     },
     "metadata": {
      "needs_background": "light"
     },
     "output_type": "display_data"
    }
   ],
   "source": [
    "# Plot Pinch Temperature \n",
    "T_Water_C = np.array(T_Water) - 273.15\n",
    "T_sCO2_C = np.array(T_sCO2) - 273.15\n",
    "\n",
    "plt.figure(figsize=(8,6), tight_layout=True)\n",
    "\n",
    "plt.plot(Enth_Change, T_sCO2_C, 'r--', linewidth = 3 , label = \"sCO2 Temperature\" )\n",
    "plt.plot(Enth_Change, T_Water_C, 'b--', linewidth = 3 , label = \"Water Temperature\")\n",
    "plt.grid(True)\n",
    "plt.axis([0,1,20,45])\n",
    "plt.xlabel('Fractional Change in Enthalpy', fontsize = 18)\n",
    "plt.ylabel('Temperature [C]', fontsize = 18)\n",
    "plt.legend(loc = \"upper right\" , fontsize=14)\n",
    "plt.xticks(fontsize = 14)\n",
    "plt.yticks(fontsize = 14)\n",
    "\n",
    "#plt.savefig('Pinch_Temperature.png',bbox_inches='tight')\n",
    "plt.show()"
   ]
  },
  {
   "cell_type": "code",
   "execution_count": 49,
   "id": "ff8819ac-583b-45a6-939a-8e7c39636d39",
   "metadata": {},
   "outputs": [],
   "source": [
    "storage = 100 # gallons of water\n",
    "storage = storage * 0.00378541\n",
    "mass = storage * Water.loc['Density [kg/m^3]', 'Inlet Water']\n",
    "Water_u_start = RP.REFPROPdll(\"Water\",\"PT\",\"E\", MASS_BASE_SI,0,0, P_in_water, T_in_water,[1.0]).Output[0]\n",
    "T_water_storage = []\n",
    "Time_s = []\n",
    "\n",
    "for x in range(0,601):\n",
    "    u2 = 8800 * x / mass + Water_u_start\n",
    "    Water_T = RP.REFPROPdll(\"Water\",\"PE\",\"T\", MASS_BASE_SI,0,0, P_in_water, u2 ,[1.0]).Output[0]\n",
    "    T_water_storage.append(Water_T-273.125)\n",
    "    Time_s.append(x/60)"
   ]
  },
  {
   "cell_type": "code",
   "execution_count": 50,
   "id": "63d42429-f2df-4348-a91b-715262169130",
   "metadata": {},
   "outputs": [
    {
     "data": {
      "image/png": "[encoded data removed]",
      "text/plain": [
       "<Figure size 576x432 with 1 Axes>"
      ]
     },
     "metadata": {
      "needs_background": "light"
     },
     "output_type": "display_data"
    }
   ],
   "source": [
    "# Plot Rise in Water storage temperature over 5 minutes \n",
    "plt.figure(figsize=(8,6), tight_layout=True)\n",
    "\n",
    "plt.plot(Time_s, T_water_storage, 'b--', linewidth = 3 , label = \"Water Storage Temperature\" )\n",
    "plt.grid(True)\n",
    "plt.axis([0,10,24,30])\n",
    "plt.xlabel('Time [min]', fontsize = 18)\n",
    "plt.ylabel('Temperature [C]', fontsize = 18)\n",
    "plt.legend(loc = \"upper right\" , fontsize=14)\n",
    "plt.xticks(fontsize = 14)\n",
    "plt.yticks(fontsize = 14)\n",
    "\n",
    "#plt.savefig('Water_storage_temperature.png',bbox_inches='tight')\n",
    "plt.show()"
   ]
  },
  {
   "cell_type": "code",
   "execution_count": 51,
   "id": "94cce0a2-16a5-4902-98d4-f016411012c1",
   "metadata": {},
   "outputs": [],
   "source": [
    "## Show the development of the Specific Heat of the fluid\n",
    "sCO2_CPCV=[]\n",
    "sCO2_CP = []\n",
    "sCO2_CV = []\n",
    "for i in range(0,11):\n",
    "    CPCV = RP.REFPROPdll(\"CO2\",\"PT\",\"CP/CV\", MASS_BASE_SI,0,0, P_mean, T_sCO2[i] ,[1.0]).Output[0]\n",
    "    sCO2_CPCV.append(CPCV)\n",
    "    CP = RP.REFPROPdll(\"CO2\",\"PT\",\"CP\", MASS_BASE_SI,0,0, P_mean, T_sCO2[i] ,[1.0]).Output[0]\n",
    "    sCO2_CP.append(CP)\n",
    "    CV = RP.REFPROPdll(\"CO2\",\"PT\",\"CV\", MASS_BASE_SI,0,0, P_mean, T_sCO2[i] ,[1.0]).Output[0]\n",
    "    sCO2_CV.append(CV)"
   ]
  },
  {
   "cell_type": "code",
   "execution_count": 52,
   "id": "4a954ec0-7cef-4ad9-9c77-7ba0588507e8",
   "metadata": {},
   "outputs": [],
   "source": [
    "sCO2_CP = np.array(sCO2_CP)/1000\n",
    "sCO2_CV = np.array(sCO2_CV)/1000"
   ]
  },
  {
   "cell_type": "code",
   "execution_count": 53,
   "id": "7049f5bf-b866-45fd-8f6b-a502e19b1ecb",
   "metadata": {},
   "outputs": [
    {
     "data": {
      "image/png": "[encoded data removed]",
      "text/plain": [
       "<Figure size 576x432 with 1 Axes>"
      ]
     },
     "metadata": {
      "needs_background": "light"
     },
     "output_type": "display_data"
    }
   ],
   "source": [
    "# Plot change in CP and CV with temperature of CO2\n",
    "plt.figure(figsize=(8,6), tight_layout=True)\n",
    "\n",
    "plt.plot(T_sCO2_C, sCO2_CP, 'k--', linewidth = 3 , label = \"CP\" )\n",
    "plt.grid(True)\n",
    "#plt.axis([0,300,24,28])\n",
    "plt.xlabel('Temperature [C]', fontsize = 13)\n",
    "plt.ylabel('Specific Heat [J/kgK]', fontsize = 13)\n",
    "plt.legend(loc = \"upper right\" , fontsize=12)\n",
    "plt.xticks(fontsize = 11)\n",
    "plt.yticks(fontsize = 11)\n",
    "\n",
    "#plt.savefig('Water_storage_temperature.png',bbox_inches='tight')\n",
    "plt.show()"
   ]
  },
  {
   "cell_type": "code",
   "execution_count": null,
   "id": "f55b03a6-027c-42e0-8e6e-8cde7c251543",
   "metadata": {},
   "outputs": [],
   "source": []
  },
  {
   "cell_type": "code",
   "execution_count": null,
   "id": "c66f29eb-f82f-40ab-b1b0-1d86d4bb3d10",
   "metadata": {},
   "outputs": [],
   "source": []
  }
 ],
 "metadata": {
  "kernelspec": {
   "display_name": "Python 3",
   "language": "python",
   "name": "python3"
  },
  "language_info": {
   "codemirror_mode": {
    "name": "ipython",
    "version": 3
   },
   "file_extension": ".py",
   "mimetype": "text/x-python",
   "name": "python",
   "nbconvert_exporter": "python",
   "pygments_lexer": "ipython3",
   "version": "3.8.8"
  }
 },
 "nbformat": 4,
 "nbformat_minor": 5
}
