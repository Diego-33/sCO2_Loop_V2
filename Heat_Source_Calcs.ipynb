{
 "cells": [
  {
   "cell_type": "code",
   "execution_count": 1,
   "id": "830b6988-0960-4a13-ba32-993e194fb14a",
   "metadata": {},
   "outputs": [],
   "source": [
    "# Dictate the environment's loctaion of REFPROP\n",
    "import os\n",
    "os.environ['RPPREFIX'] = r'C:/Program Files (x86)/REFPROP'"
   ]
  },
  {
   "cell_type": "code",
   "execution_count": 2,
   "id": "05b78d6c-7d33-425a-804a-1a32f6d960be",
   "metadata": {},
   "outputs": [],
   "source": [
    "# Import the main class from the Python library\n",
    "from ctREFPROP.ctREFPROP import REFPROPFunctionLibrary\n",
    "\n",
    "# Imports from conda-installable packages\n",
    "import pandas as pd\n",
    "\n",
    "# Import numpy\n",
    "import numpy as np\n",
    "\n",
    "# Import matplotlib for plotting\n",
    "import matplotlib.pyplot as plt\n",
    "\n",
    "# Import Math for common values such as PI\n",
    "import math"
   ]
  },
  {
   "cell_type": "code",
   "execution_count": 3,
   "id": "aebff958-8aab-41f5-a695-01dc2a7cb9db",
   "metadata": {},
   "outputs": [],
   "source": [
    "# Instantiate the library, and use the environment variable to explicitly state which path we want to use.\n",
    "# As mentioned above, this will be changed to call the correct REFPROP functions to be used\n",
    "# with MINI-REFPROP and 32-bit python.\n",
    "# If using MINI-REFPROP and 32-bit python please make the following changes\n",
    "# RP = REFPROPFunctionLibrary('C:/Program FIles (x86)/MINI-REFPROP\\\\REFPROP.DLL')\n",
    "RP = REFPROPFunctionLibrary(os.environ['RPPREFIX'])"
   ]
  },
  {
   "cell_type": "code",
   "execution_count": 4,
   "id": "a67d6c47-a7fe-4565-8259-30cb8cfe31ec",
   "metadata": {},
   "outputs": [],
   "source": [
    "# This will call which root directory that will be used for the program. \n",
    "RP.SETPATHdll(os.environ['RPPREFIX'])"
   ]
  },
  {
   "cell_type": "code",
   "execution_count": 5,
   "id": "08a5050a-f347-4472-b827-1e4921fffb10",
   "metadata": {},
   "outputs": [],
   "source": [
    "# Get the unit system we want to use (Mass base SI gives units in\n",
    "# K, Pa, kg, m, N, J, W, and s)\n",
    "MASS_BASE_SI = RP.GETENUMdll(0, \"MASS BASE SI\").iEnum"
   ]
  },
  {
   "cell_type": "code",
   "execution_count": 6,
   "id": "c8a36326-e35a-4f69-a5ac-8b5d0095776e",
   "metadata": {},
   "outputs": [],
   "source": [
    "m_dot = .2 # kg/s"
   ]
  },
  {
   "cell_type": "code",
   "execution_count": 7,
   "id": "f73b55e7-db52-4c27-be4e-8e36762a3a89",
   "metadata": {},
   "outputs": [],
   "source": [
    "# Tube ID \n",
    "Tube_ID_2 = (.25 - 2 * .028) * .0254\n",
    "Tube_ID_3 = (.5 - 2 * .049) * .0254 \n",
    "Tube_ID_4 = (.75 - 2 * .083) * .0254 \n",
    "#Tube_ID_4 = (1 - 2 * .095) * 0.0254 # convert inches to meters\n",
    "\n",
    "Tube_OD_2 = .25 * .0254 \n",
    "Tube_OD_3 = .5 * .0254\n",
    "Tube_OD_4 = .75 * .0254\n",
    "#Tube_OD_4 = 1 * .0254"
   ]
  },
  {
   "cell_type": "code",
   "execution_count": 8,
   "id": "fe292ec9-ec64-4e5b-88d5-78cb54addf38",
   "metadata": {},
   "outputs": [],
   "source": [
    "# Inlet States\n",
    "P2 = 2496.259 # psi\n",
    "P2 = 1236.23\n",
    "P2 = P2 * 6894.8 # convert psia to Pa\n",
    "T2 = 80 # C\n",
    "T2 = T2 + 273.15 # Convert C to Kelvin\n",
    "T2 = 314.972952"
   ]
  },
  {
   "cell_type": "code",
   "execution_count": 9,
   "id": "fd7a9ce6-8960-4ae2-8066-ac7c89a56999",
   "metadata": {},
   "outputs": [],
   "source": [
    "# Obtain fluid properties from the pressure and temperature outlined above\n",
    "State_2 = RP.REFPROPdll(\"CO2\",\"PT\",\"H;D;V;S;CP/CV;W;TCX;VIS;PRANDTL\", MASS_BASE_SI,0,0,P2,T2,[1.0])\n",
    "\n",
    "# Outputs will be placed into data frame for organization\n",
    "State_2 = pd.DataFrame(State_2.Output[0:9],\n",
    "            index = ['Enthalpy [kJ/kg]', 'Density [kg/m^3]', 'Volume [m^3/kg]', 'Entropy [J/kg K]',\n",
    "                     'CP/CV', 'Speed of Sound', 'Thermal Cond. [W/(mK)]', 'Viscosity [Pa-s]', 'Prandtl'],\n",
    "            columns = ['State 2'])"
   ]
  },
  {
   "cell_type": "code",
   "execution_count": 10,
   "id": "6ca2d545-3512-4277-bf10-137e4626da54",
   "metadata": {},
   "outputs": [],
   "source": [
    "P_2 = []\n",
    "h_2 = []\n",
    "L2 = []\n",
    "\n",
    "# Find Velocity, Reynolds Number, and darcy friction factor (assuming smooth pipe)\n",
    "Velocity = 4 * m_dot * State_2.loc['Volume [m^3/kg]','State 2'] / (math.pi * Tube_ID_2**2)\n",
    "Reynolds = State_2.loc['Density [kg/m^3]','State 2'] * Velocity * Tube_ID_2 / State_2.loc['Viscosity [Pa-s]','State 2']\n",
    "Darcy_f = (0.79 * math.log(Reynolds) - 1.64)**(-2)\n",
    "\n",
    "for k in range(0,11):\n",
    "    # Using Estimated Length of Tubing used by Heat Source \n",
    "    # find the amount of pressure drop caused by fanno flow and Heat addition\n",
    "    #Length = (1.23573 / (Tube_OD_2 * math.pi))*(k/10) # [meters]\n",
    "    Length = 1 * (k/10) \n",
    "\n",
    "    # Force acted on the wall of tube\n",
    "    Force = math.pi * Tube_ID_2 * Darcy_f * State_2.loc['Density [kg/m^3]','State 2'] * (Velocity**2) * Length / 8 \n",
    "\n",
    "    # Dimensionless Friction factor\n",
    "    f_dim = 4 * Force / (P2 * math.pi * Tube_ID_2**2) \n",
    "\n",
    "    # Heat Added into system (kW)\n",
    "    # Max Heat Possible is 16730 W\n",
    "    #Q = 16.73*(k/10) # [kW]\n",
    "    Q = -1*(k/10) # [kW]\n",
    "\n",
    "    # Dimensionless heating factor\n",
    "    q_dim = Q * 1000 / (m_dot * State_2.loc['Enthalpy [kJ/kg]', 'State 2'])\n",
    "\n",
    "    # Inlet Mach Number of length of tubing\n",
    "    Mach_inlet = Velocity / State_2.loc['Speed of Sound','State 2']\n",
    "\n",
    "    # Formulation used to calculate Pressure drop (found in Adv. Fluid Mechanics Textbook)\n",
    "    A_eq = ((Mach_inlet**2) * (1 + ((State_2.loc['CP/CV','State 2'] - 1) / 2) * (Mach_inlet**2) + q_dim)) \\\n",
    "            / ((1 + State_2.loc['CP/CV','State 2'] * (Mach_inlet**2) - f_dim)**2)\n",
    "\n",
    "    # Find the positive outcome to the biquadratic Mach number\n",
    "    Mach_outlet_1 = math.sqrt((-1 * (1 - 2 * A_eq * State_2.loc['CP/CV','State 2'])\\\n",
    "                                + ((1 - 2 * A_eq * (State_2.loc['CP/CV','State 2'] + 1))**0.5))\\\n",
    "                                / ((State_2.loc['CP/CV','State 2'] - 1) - 2 * A_eq * State_2.loc['CP/CV','State 2']**2))\n",
    "    #Mach_outlet_1 = math.sqrt((-1 * (1 - 2 * A_eq * State_2.loc['CP/CV','State 2'])\\\n",
    "                                #- ((1 - 2 * A_eq * (State_2.loc['CP/CV','State 2'] + 1))**0.5))\\\n",
    "                               # / ((State_2.loc['CP/CV','State 2'] - 1) - 2 * A_eq * State_2.loc['CP/CV','State 2']**2))\n",
    "\n",
    "    # Find Outlet pressure caused by fanno flow (frictional loss)\n",
    "    P3 = P2 * (1 + State_2.loc['CP/CV','State 2'] * (Mach_inlet**2) - f_dim) / (1 + State_2.loc['CP/CV','State 2']\\\n",
    "                                                                                * (Mach_outlet_1**2))\n",
    "    P_2.append(P3)\n",
    "        \n",
    "    # Find the enthalpy at the outlet of the Heat source\n",
    "    Enth_3 = (State_2.loc['Enthalpy [kJ/kg]','State 2'] * (1 + ((State_2.loc['CP/CV','State 2'] - 1) / 2) * Mach_inlet**2 + q_dim)) / \\\n",
    "                (1 + ((State_2.loc['CP/CV','State 2'] - 1) / 2) * (Mach_outlet_1**2))\n",
    "    h_2.append(Enth_3)\n",
    "    \n",
    "    L2.append(2 * (k/10))\n",
    "            "
   ]
  },
  {
   "cell_type": "code",
   "execution_count": 11,
   "id": "fed8dfdf-a2d9-4d56-b43a-0810729547e3",
   "metadata": {},
   "outputs": [],
   "source": [
    "P_3 = []\n",
    "h_3 = []\n",
    "L3 = []\n",
    "\n",
    "# Find Velocity, Reynolds Number, and darcy friction factor (assuming smooth pipe)\n",
    "Velocity = 4 * m_dot * State_2.loc['Volume [m^3/kg]','State 2'] / (math.pi * Tube_ID_3**2)\n",
    "Reynolds = State_2.loc['Density [kg/m^3]','State 2'] * Velocity * Tube_ID_3 / State_2.loc['Viscosity [Pa-s]','State 2']\n",
    "Darcy_f = (0.79 * math.log(Reynolds) - 1.64)**(-2)\n",
    "\n",
    "for k in range(0,11):\n",
    "    # Using Estimated Length of Tubing used by Heat Source \n",
    "    # find the amount of pressure drop caused by fanno flow and Heat addition\n",
    "    #Length = (1.23573 / (Tube_OD_3 * math.pi))*(k/10) # [meters]\n",
    "    Length = 9.753*(k/10)\n",
    "\n",
    "    # Force acted on the wall of tube\n",
    "    Force = math.pi * Tube_ID_3 * Darcy_f * State_2.loc['Density [kg/m^3]','State 2'] * (Velocity**2) * Length / 8 \n",
    "\n",
    "    # Dimensionless Friction factor\n",
    "    f_dim = 4 * Force / (P2 * math.pi * Tube_ID_3**2) \n",
    "\n",
    "    # Heat Added into system (kW)\n",
    "    # Max Heat Possible is 16730 W\n",
    "    #Q = 16.73*(k/10) # [kW]\n",
    "    Q = -9*(k/10) # [kW]\n",
    "\n",
    "    # Dimensionless heating factor\n",
    "    q_dim = Q * 1000 / (m_dot * State_2.loc['Enthalpy [kJ/kg]', 'State 2'])\n",
    "\n",
    "    # Inlet Mach Number of length of tubing\n",
    "    Mach_inlet = Velocity / State_2.loc['Speed of Sound','State 2']\n",
    "\n",
    "    # Formulation used to calculate Pressure drop (found in Adv. Fluid Mechanics Textbook)\n",
    "    A_eq = ((Mach_inlet**2) * (1 + ((State_2.loc['CP/CV','State 2'] - 1) / 2) * (Mach_inlet**2) + q_dim)) \\\n",
    "            / ((1 + State_2.loc['CP/CV','State 2'] * (Mach_inlet**2) - f_dim)**2)\n",
    "\n",
    "    # Find the positive outcome to the biquadratic Mach number\n",
    "    Mach_outlet_1 = math.sqrt((-1 * (1 - 2 * A_eq * State_2.loc['CP/CV','State 2'])\\\n",
    "                                + ((1 - 2 * A_eq * (State_2.loc['CP/CV','State 2'] + 1))**0.5))\\\n",
    "                                / ((State_2.loc['CP/CV','State 2'] - 1) - 2 * A_eq * State_2.loc['CP/CV','State 2']**2))\n",
    "\n",
    "    # Find Outlet pressure caused by fanno flow (frictional loss)\n",
    "    P3 = P2 * (1 + State_2.loc['CP/CV','State 2'] * (Mach_inlet**2) - f_dim) / (1 + State_2.loc['CP/CV','State 2']\\\n",
    "                                                                                * (Mach_outlet_1**2))\n",
    "    P_3.append(P3)\n",
    "        \n",
    "    # Find the enthalpy at the outlet of the Heat source\n",
    "    Enth_3 = (State_2.loc['Enthalpy [kJ/kg]','State 2'] * (1 + ((State_2.loc['CP/CV','State 2'] - 1) / 2) * Mach_inlet**2 + q_dim)) / \\\n",
    "                (1 + ((State_2.loc['CP/CV','State 2'] - 1) / 2) * (Mach_outlet_1**2))\n",
    "    h_3.append(Enth_3)\n",
    "    \n",
    "    L3.append(9.753*(k/10))\n",
    "            "
   ]
  },
  {
   "cell_type": "code",
   "execution_count": 12,
   "id": "7f4be1ba-91c2-43a3-a6b5-af1512bd9b99",
   "metadata": {},
   "outputs": [],
   "source": [
    "P_4 = []\n",
    "h_4 = []\n",
    "L4 = []\n",
    "\n",
    "# Find Velocity, Reynolds Number, and darcy friction factor (assuming smooth pipe)\n",
    "Velocity = 4 * m_dot * State_2.loc['Volume [m^3/kg]','State 2'] / (math.pi * Tube_ID_4**2)\n",
    "Reynolds = State_2.loc['Density [kg/m^3]','State 2'] * Velocity * Tube_ID_4 / State_2.loc['Viscosity [Pa-s]','State 2']\n",
    "Darcy_f = (0.79 * math.log(Reynolds) - 1.64)**(-2)\n",
    "\n",
    "for k in range(0,11):\n",
    "    # Using Estimated Length of Tubing used by Heat Source \n",
    "    # find the amount of pressure drop caused by fanno flow and Heat addition\n",
    "    #Length = (1.23573 / (Tube_OD_4 * math.pi))*(k/10) # [meters]\n",
    "    Length = 7.924*(k/10) # [meters]\n",
    "\n",
    "    # Force acted on the wall of tube\n",
    "    Force = math.pi * Tube_ID_4 * Darcy_f * State_2.loc['Density [kg/m^3]','State 2'] * (Velocity**2) * Length / 8 \n",
    "\n",
    "    # Dimensionless Friction factor\n",
    "    f_dim = 4 * Force / (P2 * math.pi * Tube_ID_4**2) \n",
    "\n",
    "    # Heat Added into system (kW)\n",
    "    # Max Heat Possible is 16730 W\n",
    "    #Q = 16.73*(k/10) # [kW]\n",
    "    Q = -9*(k/10) # [kW]\n",
    "\n",
    "    # Dimensionless heating factor\n",
    "    q_dim = Q * 1000 / (m_dot * State_2.loc['Enthalpy [kJ/kg]', 'State 2'])\n",
    "\n",
    "    # Inlet Mach Number of length of tubing\n",
    "    Mach_inlet = Velocity / State_2.loc['Speed of Sound','State 2']\n",
    "\n",
    "    # Formulation used to calculate Pressure drop (found in Adv. Fluid Mechanics Textbook)\n",
    "    A_eq = ((Mach_inlet**2) * (1 + ((State_2.loc['CP/CV','State 2'] - 1) / 2) * (Mach_inlet**2) + q_dim)) \\\n",
    "            / ((1 + State_2.loc['CP/CV','State 2'] * (Mach_inlet**2) - f_dim)**2)\n",
    "\n",
    "    # Find the positive outcome to the biquadratic Mach number\n",
    "    Mach_outlet_1 = math.sqrt((-1 * (1 - 2 * A_eq * State_2.loc['CP/CV','State 2'])\\\n",
    "                                + ((1 - 2 * A_eq * (State_2.loc['CP/CV','State 2'] + 1))**0.5))\\\n",
    "                                / ((State_2.loc['CP/CV','State 2'] - 1) - 2 * A_eq * State_2.loc['CP/CV','State 2']**2))\n",
    "\n",
    "    # Find Outlet pressure caused by fanno flow (frictional loss)\n",
    "    P3 = P2 * (1 + State_2.loc['CP/CV','State 2'] * (Mach_inlet**2) - f_dim) / (1 + State_2.loc['CP/CV','State 2']\\\n",
    "                                                                                * (Mach_outlet_1**2))\n",
    "    P_4.append(P3)\n",
    "        \n",
    "    # Find the enthalpy at the outlet of the Heat source\n",
    "    Enth_3 = (State_2.loc['Enthalpy [kJ/kg]','State 2'] * (1 + ((State_2.loc['CP/CV','State 2'] - 1) / 2) * Mach_inlet**2 + q_dim)) / \\\n",
    "                (1 + ((State_2.loc['CP/CV','State 2'] - 1) / 2) * (Mach_outlet_1**2))\n",
    "    h_4.append(Enth_3)\n",
    "    \n",
    "    L4.append(7.924*(k/10))"
   ]
  },
  {
   "cell_type": "code",
   "execution_count": 13,
   "id": "021e030c-5c8f-478d-95c1-9ad1a2988985",
   "metadata": {},
   "outputs": [],
   "source": [
    "L2_dim = np.array(L2) / L2[-1]\n",
    "L3_dim = np.array(L3) / L3[-1]\n",
    "L4_dim = np.array(L4) / L4[-1]"
   ]
  },
  {
   "cell_type": "code",
   "execution_count": 14,
   "id": "aab161fa-4d88-4db5-959d-27e68e777016",
   "metadata": {},
   "outputs": [],
   "source": [
    "P_2 = np.array(P_2)/1000\n",
    "P_3 = np.array(P_3)/1000\n",
    "P_4 = np.array(P_4)/1000"
   ]
  },
  {
   "cell_type": "code",
   "execution_count": 21,
   "id": "e9683f69-6269-43dc-adae-95e6e3abb4b3",
   "metadata": {},
   "outputs": [
    {
     "data": {
      "image/png": "[encoded data removed]",
      "text/plain": [
       "<Figure size 576x432 with 1 Axes>"
      ]
     },
     "metadata": {
      "needs_background": "light"
     },
     "output_type": "display_data"
    }
   ],
   "source": [
    "plt.figure(figsize=(8,6), tight_layout=True)\n",
    "\n",
    "#plt.plot(P_1, linewidth = 1.5 )\n",
    "#plt.plot(L2_dim, P_2, 'k', linewidth = 1.5 )\n",
    "plt.plot(L3_dim, P_3, 'b', linewidth = 1.5 )\n",
    "plt.plot(L4_dim, P_4, 'r', linewidth = 1.5 )\n",
    "plt.grid(True)\n",
    "plt.xlabel('Fractional Length (x/L)', fontsize = 18)\n",
    "plt.ylabel('Pressure [kPa]', fontsize = 18)\n",
    "plt.legend(['Tube OD = 0.50 in.', 'Tube OD = 0.75 in.', 'Tube OD = .75 in.'], fontsize = 14)\n",
    "plt.xticks(fontsize = 13)\n",
    "plt.yticks(fontsize = 13)\n",
    "\n",
    "#plt.savefig('Heat_Exchanger_Pressure_Drop_Zoom.png',bbox_inches='tight')"
   ]
  },
  {
   "cell_type": "code",
   "execution_count": 16,
   "id": "68f29fad-b0f5-49d3-9606-580dc68e0e8d",
   "metadata": {},
   "outputs": [
    {
     "name": "stdout",
     "output_type": "stream",
     "text": [
      "2.0\n",
      "9.753\n",
      "7.924\n"
     ]
    }
   ],
   "source": [
    "print(L2[-1])\n",
    "print(L3[-1])\n",
    "print(L4[-1])"
   ]
  },
  {
   "cell_type": "code",
   "execution_count": 17,
   "id": "bdb639f4-a6c6-4512-9be6-8b63df219a20",
   "metadata": {},
   "outputs": [
    {
     "name": "stdout",
     "output_type": "stream",
     "text": [
      "396.2968793031814\n",
      "94.97692808563806\n",
      "11.902552141365959\n"
     ]
    }
   ],
   "source": [
    "print(P2/1000 - P_2[-1])\n",
    "print(P2/1000 - P_3[-1])\n",
    "print(P2/1000 - P_4[-1])"
   ]
  },
  {
   "cell_type": "code",
   "execution_count": 18,
   "id": "8e64920c-ad35-43af-8fea-f90280a1ac09",
   "metadata": {},
   "outputs": [
    {
     "name": "stdout",
     "output_type": "stream",
     "text": [
      "384.56088225156606\n",
      "346.4077744193452\n",
      "346.2049221288643\n"
     ]
    }
   ],
   "source": [
    "print(h_2[-1]/1000)\n",
    "print(h_3[-1]/1000)\n",
    "print(h_4[-1]/1000)"
   ]
  },
  {
   "cell_type": "code",
   "execution_count": null,
   "id": "ec8b973f-e0ba-45a7-bb93-263a27a6188f",
   "metadata": {},
   "outputs": [],
   "source": []
  }
 ],
 "metadata": {
  "kernelspec": {
   "display_name": "Python 3",
   "language": "python",
   "name": "python3"
  },
  "language_info": {
   "codemirror_mode": {
    "name": "ipython",
    "version": 3
   },
   "file_extension": ".py",
   "mimetype": "text/x-python",
   "name": "python",
   "nbconvert_exporter": "python",
   "pygments_lexer": "ipython3",
   "version": "3.8.8"
  }
 },
 "nbformat": 4,
 "nbformat_minor": 5
}
